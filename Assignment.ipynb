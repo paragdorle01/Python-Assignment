{
 "cells": [
  {
   "cell_type": "markdown",
   "id": "508237d6-633f-4afa-bc21-2a00a2336142",
   "metadata": {},
   "source": [
    "# Basics"
   ]
  },
  {
   "cell_type": "code",
   "execution_count": 1,
   "id": "c17f0f44-7f7a-4c25-b5ae-4889c1469e97",
   "metadata": {},
   "outputs": [],
   "source": [
    "# Write a python comment saying 'Day 2: 30 Days of python programming'\n",
    "\n",
    "# Day 2: 30 days of python programming"
   ]
  },
  {
   "cell_type": "code",
   "execution_count": 3,
   "id": "87a450cf-fbac-4138-a581-4728ff6237d3",
   "metadata": {},
   "outputs": [
    {
     "data": {
      "text/plain": [
       "'Parag'"
      ]
     },
     "execution_count": 3,
     "metadata": {},
     "output_type": "execute_result"
    }
   ],
   "source": [
    "# Declare a first name variable and assign a value to it\n",
    "\n",
    "first_name = \"Parag\"\n",
    "first_name"
   ]
  },
  {
   "cell_type": "code",
   "execution_count": 4,
   "id": "ee45b830-584a-4486-941d-7daf8e8b89ce",
   "metadata": {},
   "outputs": [
    {
     "data": {
      "text/plain": [
       "'Dorle'"
      ]
     },
     "execution_count": 4,
     "metadata": {},
     "output_type": "execute_result"
    }
   ],
   "source": [
    "# Declare a last name variable and assign a value to it\n",
    "\n",
    "last_name = \"Dorle\"\n",
    "last_name"
   ]
  },
  {
   "cell_type": "code",
   "execution_count": 8,
   "id": "ed63f88e-5bca-4724-b1bb-ff58994a1a0d",
   "metadata": {},
   "outputs": [
    {
     "data": {
      "text/plain": [
       "'ParagDorle'"
      ]
     },
     "execution_count": 8,
     "metadata": {},
     "output_type": "execute_result"
    }
   ],
   "source": [
    "# Declare a full name variable and assign a value to it\n",
    "\n",
    "full_name = first_name + last_name\n",
    "full_name"
   ]
  },
  {
   "cell_type": "code",
   "execution_count": 9,
   "id": "4a62e373-7526-4bef-999d-c06feda4170c",
   "metadata": {},
   "outputs": [
    {
     "data": {
      "text/plain": [
       "'India'"
      ]
     },
     "execution_count": 9,
     "metadata": {},
     "output_type": "execute_result"
    }
   ],
   "source": [
    "# Declare a country variable and assign a value to it\n",
    "\n",
    "country = \"India\"\n",
    "country"
   ]
  },
  {
   "cell_type": "code",
   "execution_count": 1,
   "id": "66886993-e695-4902-9ce0-059936a0f554",
   "metadata": {},
   "outputs": [
    {
     "data": {
      "text/plain": [
       "'Nagpur'"
      ]
     },
     "execution_count": 1,
     "metadata": {},
     "output_type": "execute_result"
    }
   ],
   "source": [
    "# Declare a city variable and assign a value to it\n",
    "\n",
    "city_name = \"Nagpur\"\n",
    "city_name"
   ]
  },
  {
   "cell_type": "code",
   "execution_count": 2,
   "id": "539eb8a4-494b-4ad5-8a51-34ec0ac169c2",
   "metadata": {},
   "outputs": [
    {
     "data": {
      "text/plain": [
       "25"
      ]
     },
     "execution_count": 2,
     "metadata": {},
     "output_type": "execute_result"
    }
   ],
   "source": [
    "# Declare an age variable and assign a value to it\n",
    "\n",
    "age = int(25)\n",
    "age"
   ]
  },
  {
   "cell_type": "code",
   "execution_count": 3,
   "id": "a06a6e0f-41ea-48cf-a79c-d3819aea36f5",
   "metadata": {},
   "outputs": [
    {
     "data": {
      "text/plain": [
       "2024"
      ]
     },
     "execution_count": 3,
     "metadata": {},
     "output_type": "execute_result"
    }
   ],
   "source": [
    "# Declare a year variable and assign a value to it\n",
    "\n",
    "year = int(2024)\n",
    "year"
   ]
  },
  {
   "cell_type": "code",
   "execution_count": 4,
   "id": "02dc5642-b6bb-4dae-b16d-adec6c701714",
   "metadata": {},
   "outputs": [
    {
     "data": {
      "text/plain": [
       "False"
      ]
     },
     "execution_count": 4,
     "metadata": {},
     "output_type": "execute_result"
    }
   ],
   "source": [
    "# 10. Declare a variable is_married and assign a value to it\n",
    "\n",
    "is_married = True\n",
    "is_married = False\n",
    "is_married"
   ]
  },
  {
   "cell_type": "code",
   "execution_count": 6,
   "id": "5b5e3471-9851-4985-ab60-536eb36b1ec4",
   "metadata": {},
   "outputs": [
    {
     "data": {
      "text/plain": [
       "False"
      ]
     },
     "execution_count": 6,
     "metadata": {},
     "output_type": "execute_result"
    }
   ],
   "source": [
    "# 11. Declare a variable is_true and assign a value to it\n",
    "\n",
    "is_true = True\n",
    "is_true = False\n",
    "\n",
    "is_true"
   ]
  },
  {
   "cell_type": "code",
   "execution_count": 7,
   "id": "b731bf35-2076-4cf1-883c-54c409e3702e",
   "metadata": {},
   "outputs": [
    {
     "data": {
      "text/plain": [
       "False"
      ]
     },
     "execution_count": 7,
     "metadata": {},
     "output_type": "execute_result"
    }
   ],
   "source": [
    "is_light_on = True\n",
    "is_light_on = False\n",
    "\n",
    "is_light_on"
   ]
  },
  {
   "cell_type": "code",
   "execution_count": 11,
   "id": "62620177-a3f4-4e5d-92b3-a5ea60037af8",
   "metadata": {},
   "outputs": [
    {
     "data": {
      "text/plain": [
       "('Parag', 'Dorle', 'Nagpur', 'India', 25)"
      ]
     },
     "execution_count": 11,
     "metadata": {},
     "output_type": "execute_result"
    }
   ],
   "source": [
    "# 13. Declare multiple variable on one line\n",
    "\n",
    "first_name, last_name, city, country, age = \"Parag\", \"Dorle\", \"Nagpur\", \"India\", 25\n",
    "\n",
    "first_name, last_name, city, country, age"
   ]
  },
  {
   "cell_type": "code",
   "execution_count": 13,
   "id": "b1dc1410-67ab-4793-a7d7-a427d766627c",
   "metadata": {},
   "outputs": [
    {
     "name": "stdout",
     "output_type": "stream",
     "text": [
      "<class 'str'>\n",
      "<class 'int'>\n",
      "<class 'bool'>\n"
     ]
    }
   ],
   "source": [
    "# 1. Check the data type of all your variables using type() built-in function\n",
    "\n",
    "name = \"Parag\"\n",
    "age = 25\n",
    "is_working = False\n",
    "\n",
    "print(type(name))\n",
    "print(type(age))\n",
    "print(type(is_working))"
   ]
  },
  {
   "cell_type": "code",
   "execution_count": 14,
   "id": "6164b353-3fcf-4cc4-9f21-7468120c39c7",
   "metadata": {},
   "outputs": [
    {
     "data": {
      "text/plain": [
       "5"
      ]
     },
     "execution_count": 14,
     "metadata": {},
     "output_type": "execute_result"
    }
   ],
   "source": [
    "# Using the _len()_ built-in function, find the length of your first name\n",
    "\n",
    "len(first_name)"
   ]
  },
  {
   "cell_type": "code",
   "execution_count": 16,
   "id": "dbaa011e-2e0c-4fdb-b435-b5cbcabd39f4",
   "metadata": {},
   "outputs": [
    {
     "data": {
      "text/plain": [
       "False"
      ]
     },
     "execution_count": 16,
     "metadata": {},
     "output_type": "execute_result"
    }
   ],
   "source": [
    "# 1. Compare the length of your first name and your last name\n",
    "\n",
    "first_name = \"Parag1\"\n",
    "last_name = \"Dorle01\"\n",
    "\n",
    "comp = len(first_name) == len(last_name)\n",
    "comp"
   ]
  },
  {
   "cell_type": "code",
   "execution_count": 2,
   "id": "1943a47a-f944-42f7-b6d7-caa40f8fbf6a",
   "metadata": {},
   "outputs": [
    {
     "data": {
      "text/plain": [
       "9"
      ]
     },
     "execution_count": 2,
     "metadata": {},
     "output_type": "execute_result"
    }
   ],
   "source": [
    "\"\"\"1. Declare 5 as num_one and 4 as num_two\n",
    "    1. Add num_one and num_two and assign the value to a variable total\"\"\"\n",
    "\n",
    "num_one = 5\n",
    "num_two = 4\n",
    "\n",
    "sum = num_one + num_two\n",
    "sum"
   ]
  },
  {
   "cell_type": "code",
   "execution_count": 3,
   "id": "1983ca20-1a60-417d-bd39-78cfd4447ab2",
   "metadata": {},
   "outputs": [
    {
     "data": {
      "text/plain": [
       "1"
      ]
     },
     "execution_count": 3,
     "metadata": {},
     "output_type": "execute_result"
    }
   ],
   "source": [
    "# Subtract num_two from num_one and assign the value to a variable diff\n",
    "\n",
    "sub = num_one - num_two\n",
    "sub"
   ]
  },
  {
   "cell_type": "code",
   "execution_count": 4,
   "id": "40f2f173-de9e-4ee5-93d1-85b73f7b67f6",
   "metadata": {},
   "outputs": [
    {
     "data": {
      "text/plain": [
       "20"
      ]
     },
     "execution_count": 4,
     "metadata": {},
     "output_type": "execute_result"
    }
   ],
   "source": [
    "# Multiply num_two and num_one and assign the value to a variable product\n",
    "\n",
    "mul = num_one * num_two\n",
    "mul"
   ]
  },
  {
   "cell_type": "code",
   "execution_count": 5,
   "id": "e52045d2-5332-4434-a16c-3cffecb9812f",
   "metadata": {},
   "outputs": [
    {
     "data": {
      "text/plain": [
       "1.25"
      ]
     },
     "execution_count": 5,
     "metadata": {},
     "output_type": "execute_result"
    }
   ],
   "source": [
    "# Divide num_one by num_two and assign the value to a variable division\n",
    "\n",
    "div = num_one / num_two\n",
    "div"
   ]
  },
  {
   "cell_type": "code",
   "execution_count": 6,
   "id": "baac1087-3215-4a8d-9d74-ee402e41592c",
   "metadata": {},
   "outputs": [
    {
     "data": {
      "text/plain": [
       "1"
      ]
     },
     "execution_count": 6,
     "metadata": {},
     "output_type": "execute_result"
    }
   ],
   "source": [
    "# Use modulus division to find num_two divided by num_one and assign the value to a variable remainder\n",
    "\n",
    "mod = num_one % num_two\n",
    "mod"
   ]
  },
  {
   "cell_type": "code",
   "execution_count": 8,
   "id": "83a8fee5-3597-437a-a4df-3c4afbecdf1e",
   "metadata": {},
   "outputs": [
    {
     "data": {
      "text/plain": [
       "625"
      ]
     },
     "execution_count": 8,
     "metadata": {},
     "output_type": "execute_result"
    }
   ],
   "source": [
    "# Calculate num_one to the power of num_two and assign the value to a variable exp\n",
    "\n",
    "pow = num_one ** num_two\n",
    "pow"
   ]
  },
  {
   "cell_type": "code",
   "execution_count": 9,
   "id": "2e82c2b8-e21a-459c-9a5a-8590b442bdcf",
   "metadata": {},
   "outputs": [
    {
     "data": {
      "text/plain": [
       "1"
      ]
     },
     "execution_count": 9,
     "metadata": {},
     "output_type": "execute_result"
    }
   ],
   "source": [
    "# Find floor division of num_one by num_two and assign the value to a variable floor_division\n",
    "\n",
    "floor_div = num_one // num_two\n",
    "floor_div"
   ]
  },
  {
   "cell_type": "code",
   "execution_count": 12,
   "id": "da0d15c1-9e5e-490b-9dc7-2340835802fe",
   "metadata": {},
   "outputs": [
    {
     "data": {
      "text/plain": [
       "2826.0"
      ]
     },
     "execution_count": 12,
     "metadata": {},
     "output_type": "execute_result"
    }
   ],
   "source": [
    "\"\"\" The radius of a circle is 30 meters.\n",
    "    1. Calculate the area of a circle and assign the value to a variable name of _area_of_circle_ \"\"\"\n",
    "\n",
    "pi = 3.14\n",
    "r = 30\n",
    "area = pi*r**2\n",
    "area"
   ]
  },
  {
   "cell_type": "code",
   "execution_count": 13,
   "id": "3330dcf5-6582-4738-beb7-4bf9d8636643",
   "metadata": {},
   "outputs": [
    {
     "data": {
      "text/plain": [
       "188.4"
      ]
     },
     "execution_count": 13,
     "metadata": {},
     "output_type": "execute_result"
    }
   ],
   "source": [
    "# Calculate the circumference of a circle and assign the value to a variable name of _circum_of_circle_\n",
    "\n",
    "pi = 3.14\n",
    "r = 30\n",
    "circum_of_circle = 2*pi*r\n",
    "circum_of_circle"
   ]
  },
  {
   "cell_type": "code",
   "execution_count": 16,
   "id": "0b1d12ed-7935-4119-aa96-9a78cf713585",
   "metadata": {},
   "outputs": [
    {
     "name": "stdout",
     "output_type": "stream",
     "text": [
      "Enter the Radius 37\n"
     ]
    },
    {
     "data": {
      "text/plain": [
       "4298.66"
      ]
     },
     "execution_count": 16,
     "metadata": {},
     "output_type": "execute_result"
    }
   ],
   "source": [
    "# Take radius as user input and calculate the area.\n",
    "\n",
    "rad = int(input(\"Enter the Radius\")) \n",
    "pi = 3.14\n",
    "area = pi*rad**2\n",
    "area"
   ]
  },
  {
   "cell_type": "code",
   "execution_count": 21,
   "id": "c6e29ea1-3c13-41fd-9b15-5942bd9e90d7",
   "metadata": {},
   "outputs": [
    {
     "name": "stdout",
     "output_type": "stream",
     "text": [
      "Enter the First Name Parag\n",
      "Enter the Last Name Dorle\n",
      "Enter the Country Name India\n",
      "Enter the Age 25\n"
     ]
    },
    {
     "name": "stdout",
     "output_type": "stream",
     "text": [
      "Hello, Parag Dorle From India, My age is 25.\n"
     ]
    }
   ],
   "source": [
    "# Use the built-in input function to get first name, last name, country and age from a user and store the value to their corresponding variable names\n",
    "\n",
    "first_name = input(\"Enter the First Name\")\n",
    "last_name = input(\"Enter the Last Name\")\n",
    "country = input(\"Enter the Country Name\")\n",
    "age = input(\"Enter the Age\")\n",
    "print(f\"Hello, {first_name} {last_name} From {country}, My age is {age}.\")"
   ]
  },
  {
   "cell_type": "markdown",
   "id": "e9395696-8743-4da0-81ca-0eb111dce0b0",
   "metadata": {},
   "source": [
    "# Basics 02"
   ]
  },
  {
   "cell_type": "code",
   "execution_count": 2,
   "id": "96c6210c-b246-4d02-8787-91eb33071233",
   "metadata": {},
   "outputs": [
    {
     "data": {
      "text/plain": [
       "25"
      ]
     },
     "execution_count": 2,
     "metadata": {},
     "output_type": "execute_result"
    }
   ],
   "source": [
    "# Declare your age as integer variable\n",
    "\n",
    "age = int(25)\n",
    "age"
   ]
  },
  {
   "cell_type": "code",
   "execution_count": 3,
   "id": "cbc73ebc-2c2f-4304-8e6c-e3917ce38652",
   "metadata": {},
   "outputs": [
    {
     "data": {
      "text/plain": [
       "5.11"
      ]
     },
     "execution_count": 3,
     "metadata": {},
     "output_type": "execute_result"
    }
   ],
   "source": [
    "# Declare your height as a float variable\n",
    "\n",
    "height = float(5.11)\n",
    "height"
   ]
  },
  {
   "cell_type": "code",
   "execution_count": 4,
   "id": "f9371f2f-3b5e-4c75-b2db-2df7d643fb03",
   "metadata": {},
   "outputs": [
    {
     "data": {
      "text/plain": [
       "(3+3j)"
      ]
     },
     "execution_count": 4,
     "metadata": {},
     "output_type": "execute_result"
    }
   ],
   "source": [
    "# Declare a variable that store a complex number\n",
    "\n",
    "com = complex(3+3j)\n",
    "com"
   ]
  },
  {
   "cell_type": "code",
   "execution_count": 11,
   "id": "9e49b681-8483-4b50-8024-cb7a98d75143",
   "metadata": {},
   "outputs": [
    {
     "name": "stdout",
     "output_type": "stream",
     "text": [
      "Enter the Base :  15\n",
      "Enter the Height :  16\n"
     ]
    },
    {
     "data": {
      "text/plain": [
       "120.0"
      ]
     },
     "execution_count": 11,
     "metadata": {},
     "output_type": "execute_result"
    }
   ],
   "source": [
    "# Write a script that prompts the user to enter base and height of the triangle and calculate an area of this triangle (area = 0.5 x b x h).\n",
    "\n",
    "base = int(input(\"Enter the Base : \"))\n",
    "height = int(input(\"Enter the Height : \"))\n",
    "area_of_triangle = 0.5*base*height\n",
    "\n",
    "area_of_triangle"
   ]
  },
  {
   "cell_type": "code",
   "execution_count": 12,
   "id": "18dc4f06-fe48-49c7-beb9-7ffe95413464",
   "metadata": {},
   "outputs": [
    {
     "name": "stdout",
     "output_type": "stream",
     "text": [
      "The perimeter of the triangle is :  12\n"
     ]
    }
   ],
   "source": [
    "\"\"\" 5. Write a script that prompts the user to enter side a, side b, and side c of the triangle. Calculate the perimeter of the triangle (perimeter = a + b + c).\n",
    "\n",
    "Enter side a: 5\n",
    "Enter side b: 4\n",
    "Enter side c: 3\n",
    "The perimeter of the triangle is 12 \"\"\"\n",
    "\n",
    "side_a = 5\n",
    "side_b = 4\n",
    "side_c = 3\n",
    "\n",
    "perimeter_of_the_triangle = side_a + side_b + side_c\n",
    "\n",
    "print(\"The perimeter of the triangle is : \", perimeter_of_the_triangle)"
   ]
  },
  {
   "cell_type": "code",
   "execution_count": 16,
   "id": "30f5dc67-e800-4afe-a7a5-50626a867b6e",
   "metadata": {},
   "outputs": [
    {
     "name": "stdout",
     "output_type": "stream",
     "text": [
      "Enter the Length of Rectangle :  15\n",
      "Enter the width of Rectangle :  16\n"
     ]
    },
    {
     "name": "stdout",
     "output_type": "stream",
     "text": [
      "Area of Recangle is 240 and Area of Perimeter is 62\n"
     ]
    }
   ],
   "source": [
    "# Get length and width of a rectangle using prompt. Calculate its area (area = length x width) and perimeter (perimeter = 2 x (length + width))\n",
    "\n",
    "length = int(input(\"Enter the Length of Rectangle : \"))\n",
    "width = int(input(\"Enter the width of Rectangle : \"))\n",
    "\n",
    "area = length*width\n",
    "perimeter = 2*(length+width)\n",
    "print(f\"Area of Recangle is {area} and Area of Perimeter is {perimeter}\")"
   ]
  },
  {
   "cell_type": "code",
   "execution_count": 18,
   "id": "8d347424-fd17-4370-8128-cdbda4da7725",
   "metadata": {},
   "outputs": [
    {
     "name": "stdout",
     "output_type": "stream",
     "text": [
      "Enter the Radius of Circle 15\n"
     ]
    },
    {
     "name": "stdout",
     "output_type": "stream",
     "text": [
      "Area of Circle is : 706.5 And Circumference of Circle is 94.2\n"
     ]
    }
   ],
   "source": [
    "# Get radius of a circle using prompt. Calculate the area (area = pi x r x r) and circumference (c = 2 x pi x r) where pi = 3.14.\n",
    "\n",
    "rad = int(input(\"Enter the Radius of Circle\"))\n",
    "pi = 3.14\n",
    "area = pi*rad*rad\n",
    "circum = 2*pi*rad\n",
    "\n",
    "print(f\"Area of Circle is : {area} And Circumference of Circle is {circum}\")"
   ]
  },
  {
   "cell_type": "code",
   "execution_count": 22,
   "id": "20af4ce7-4072-470c-832a-3b97ccd3871a",
   "metadata": {},
   "outputs": [
    {
     "name": "stdout",
     "output_type": "stream",
     "text": [
      "Enter X1 Value 15\n",
      "Enter X2 Value 14\n",
      "Enter Y1 Value 13\n",
      "Enter Y2 Value 18\n"
     ]
    },
    {
     "name": "stdout",
     "output_type": "stream",
     "text": [
      "slope is :  -5.0\n"
     ]
    }
   ],
   "source": [
    "# Calculate the slope, x-intercept and y-intercept of y = 2x -2\n",
    "\n",
    "x1 = int(input(\"Enter X1 Value\"))\n",
    "x2 = int(input(\"Enter X2 Value\"))\n",
    "y1 = int(input(\"Enter Y1 Value\"))\n",
    "y2 = int(input(\"Enter Y2 Value\"))\n",
    "\n",
    "slope = (y2-y1)/(x2-x1)\n",
    "print(\"slope is : \", slope)\n"
   ]
  },
  {
   "cell_type": "code",
   "execution_count": 23,
   "id": "e3935719-5d8e-4c4f-b7a9-dde518367d99",
   "metadata": {},
   "outputs": [],
   "source": [
    "# 10. Compare the slopes in tasks 8 and 9.\n",
    "\n"
   ]
  },
  {
   "cell_type": "code",
   "execution_count": 24,
   "id": "22d90898-abe1-4519-bc27-4b9afe8c75fd",
   "metadata": {},
   "outputs": [],
   "source": [
    "# Calculate the value of y (y = x^2 + 6x + 9). Try to use different x values and figure out at what x value y is going to be 0.\n"
   ]
  },
  {
   "cell_type": "code",
   "execution_count": 28,
   "id": "9615e53b-ff08-4877-8749-f23d86c14373",
   "metadata": {},
   "outputs": [
    {
     "name": "stdout",
     "output_type": "stream",
     "text": [
      "False\n"
     ]
    }
   ],
   "source": [
    "# Find the length of 'python' and 'dragon' and make a falsy comparison statement.\n",
    "\n",
    "a = len(\"python\")\n",
    "b = len(\"dragon\")\n",
    "c = a!=b\n",
    "print(c)"
   ]
  },
  {
   "cell_type": "code",
   "execution_count": 30,
   "id": "ce72382b-21bc-4f57-8aee-8239a44a0280",
   "metadata": {},
   "outputs": [
    {
     "name": "stdout",
     "output_type": "stream",
     "text": [
      "'on' is found in both python and dragon\n"
     ]
    }
   ],
   "source": [
    "# Use _and_ operator to check if 'on' is found in both 'python' and 'dragon'\n",
    "\n",
    "w1 = \"python\"\n",
    "w2 = \"dragon\"\n",
    "\n",
    "is_in_both = \"on\" in w1 and \"on\" in w2\n",
    "\n",
    "if is_in_both:\n",
    "  print(\"'on' is found in both\", w1, \"and\", w2)\n",
    "else:\n",
    "  print(\"'on' is not found in both\", w1, \"and\", w2)"
   ]
  },
  {
   "cell_type": "code",
   "execution_count": 31,
   "id": "ecdaf4ef-281f-4688-aecb-93277894a124",
   "metadata": {},
   "outputs": [
    {
     "name": "stdout",
     "output_type": "stream",
     "text": [
      "The sentence contains the word 'jargon'.\n"
     ]
    }
   ],
   "source": [
    "# I hope this course is not full of jargon_. Use _in_ operator to check if _jargon_ is in the sentence.\n",
    "\n",
    "sentence = \"I hope this course is not full of jargon.\"\n",
    "\n",
    "has_jargon = \"jargon\" in sentence.lower()\n",
    "\n",
    "if has_jargon:\n",
    "  print(\"The sentence contains the word 'jargon'.\")\n",
    "else:\n",
    "  print(\"The sentence does not contain the word 'jargon'.\")"
   ]
  },
  {
   "cell_type": "code",
   "execution_count": 34,
   "id": "cc402d69-2a6d-4206-a2b0-c7545e4b4ea2",
   "metadata": {},
   "outputs": [
    {
     "name": "stdout",
     "output_type": "stream",
     "text": [
      "on is not found in both dragon and python\n"
     ]
    }
   ],
   "source": [
    "# There is no 'on' in both dragon and python\n",
    "\n",
    "wd1 = \"dragon\"\n",
    "wd2 = \"python\"\n",
    "\n",
    "is_in_both = \"on\" not in wd1 and \"on\" in wd2\n",
    "if is_in_both:\n",
    "    print(\"on is found in both\", wd1, \"and\", wd2)\n",
    "else:\n",
    "    print(\"on is not found in both\", wd1, \"and\", wd2)\n"
   ]
  },
  {
   "cell_type": "code",
   "execution_count": 40,
   "id": "f10fe605-55e6-4943-9e2d-2faabbef62b7",
   "metadata": {},
   "outputs": [
    {
     "name": "stdout",
     "output_type": "stream",
     "text": [
      "Text is :  Python\n",
      "Length of Text :  6\n",
      "Length of Float :  6.0\n",
      "Length of String :  6.0\n"
     ]
    }
   ],
   "source": [
    "# Find the length of the text _python_ and convert the value to float and convert it to string\n",
    "\n",
    "text = \"Python\"\n",
    "\n",
    "text_length = len(text)\n",
    "text_length_float = float(text_length)\n",
    "text_length_string = str(text_length_float)\n",
    "\n",
    "print(\"Text is : \", text)\n",
    "print(\"Length of Text : \", text_length)\n",
    "print(\"Length of Float : \", text_length_float)\n",
    "print(\"Length of String : \", text_length_string)"
   ]
  },
  {
   "cell_type": "code",
   "execution_count": 43,
   "id": "f9f00e97-9d12-4c06-bdc0-5c5b7913cdc9",
   "metadata": {},
   "outputs": [
    {
     "name": "stdout",
     "output_type": "stream",
     "text": [
      "Enter the Number 5\n"
     ]
    },
    {
     "name": "stdout",
     "output_type": "stream",
     "text": [
      "Odd Number\n"
     ]
    }
   ],
   "source": [
    "# Even numbers are divisible by 2 and the remainder is zero. How do you check if a number is even or not using python?\n",
    "\n",
    "num = int(input(\"Enter the Number\"))\n",
    "\n",
    "if num % 2 == 0:\n",
    "    print(\"Even Number\")\n",
    "else:\n",
    "    print(\"Odd Number\")"
   ]
  },
  {
   "cell_type": "code",
   "execution_count": 45,
   "id": "d05c36a0-a22d-4040-b221-e15d3f1651d0",
   "metadata": {},
   "outputs": [
    {
     "name": "stdout",
     "output_type": "stream",
     "text": [
      "True\n"
     ]
    }
   ],
   "source": [
    "# Check if the floor division of 7 by 3 is equal to the int converted value of 2.7.\n",
    "\n",
    "floor_div = (7//3) == int(2.7)\n",
    "print(floor_div)"
   ]
  },
  {
   "cell_type": "code",
   "execution_count": 46,
   "id": "0f472906-7626-4ccc-9b24-14444657ab0d",
   "metadata": {},
   "outputs": [
    {
     "name": "stdout",
     "output_type": "stream",
     "text": [
      "False\n"
     ]
    }
   ],
   "source": [
    "# Check if type of '10' is equal to type of 10\n",
    "\n",
    "var = type(\"10\") == type(10)\n",
    "print(var)"
   ]
  },
  {
   "cell_type": "code",
   "execution_count": 49,
   "id": "3323543c-a791-4f70-b716-1aa2b0a2ae92",
   "metadata": {},
   "outputs": [
    {
     "name": "stdout",
     "output_type": "stream",
     "text": [
      "False\n"
     ]
    }
   ],
   "source": [
    "# Check if int('9.8') is equal to 10\n",
    "\n",
    "var = int(10) == \"9.8\"\n",
    "print(var)"
   ]
  },
  {
   "cell_type": "code",
   "execution_count": 6,
   "id": "9a3527ef-6f0a-4096-926e-cfdc271a2258",
   "metadata": {},
   "outputs": [
    {
     "name": "stdout",
     "output_type": "stream",
     "text": [
      "Entre Hours 40\n",
      "Enter rate per hour :  28\n"
     ]
    },
    {
     "name": "stdout",
     "output_type": "stream",
     "text": [
      "Your weekly earning is :  1120\n"
     ]
    }
   ],
   "source": [
    "\"\"\" Write a script that prompts the user to enter hours and rate per hour. Calculate pay of the person?\n",
    "\n",
    "```py\n",
    "Enter hours: 40\n",
    "Enter rate per hour: 28\n",
    "Your weekly earning is 1120 \"\"\"\n",
    "\n",
    "var = int(input(\"Entre Hours\"))\n",
    "var1 = int(input(\"Enter rate per hour : \"))\n",
    "rate = var*var1\n",
    "print(\"Your weekly earning is : \", rate)\n"
   ]
  },
  {
   "cell_type": "code",
   "execution_count": 13,
   "id": "73415868-e4e8-4870-8755-d13f9721337a",
   "metadata": {},
   "outputs": [
    {
     "name": "stdout",
     "output_type": "stream",
     "text": [
      "Enter number of years you have lived:  100\n"
     ]
    },
    {
     "name": "stdout",
     "output_type": "stream",
     "text": [
      "You have lived for approximately 31557600.0 seconds.\n"
     ]
    }
   ],
   "source": [
    "\"\"\" Write a script that prompts the user to enter number of years. Calculate the number of seconds a person can live. Assume a person can live hundred years\n",
    "\n",
    "```py\n",
    "Enter number of years you have lived: 100\n",
    "You have lived for 3153600000 seconds. \"\"\"\n",
    "\n",
    "years = int(input(\"Enter number of years you have lived: \"))\n",
    "\n",
    "average_days_per_year = 365.25\n",
    "seconds_per_day = 60 * 60 * 24\n",
    "lived = average_days_per_year * seconds_per_day\n",
    "print(f\"You have lived for approximately {lived} seconds.\")\n"
   ]
  },
  {
   "cell_type": "code",
   "execution_count": 21,
   "id": "f72d01f2-ffeb-41b0-9074-e01db042237d",
   "metadata": {},
   "outputs": [
    {
     "name": "stdout",
     "output_type": "stream",
     "text": [
      "1\n",
      "1 2\n",
      "1 3 9\n",
      "1 4 16 64\n",
      "1 5 25 125 625\n"
     ]
    }
   ],
   "source": [
    "\"\"\" Write a Python script that displays the following table\n",
    "\n",
    "```py\n",
    "1 1 1 1 1\n",
    "2 1 2 4 8\n",
    "3 1 3 9 27\n",
    "4 1 4 16 64\n",
    "5 1 5 25 125 \"\"\"\n",
    "\n",
    "num_rows = 5\n",
    "\n",
    "for i in range(1, num_rows + 1):\n",
    "  row_values = [1]\n",
    "\n",
    "  for j in range(1, i):\n",
    "    row_values.append(row_values[j-1] * i)\n",
    "\n",
    "  print(*row_values)"
   ]
  },
  {
   "cell_type": "markdown",
   "id": "8e072799-29ec-476a-aa5d-ee88707f5e09",
   "metadata": {},
   "source": [
    "# String"
   ]
  },
  {
   "cell_type": "code",
   "execution_count": 25,
   "id": "a3c229e2-e00d-4865-8ff5-4b7a01a86147",
   "metadata": {},
   "outputs": [
    {
     "data": {
      "text/plain": [
       "'Thirty Days of Python'"
      ]
     },
     "execution_count": 25,
     "metadata": {},
     "output_type": "execute_result"
    }
   ],
   "source": [
    "# Concatenate the string 'Thirty', 'Days', 'Of', 'Python' to a single string, 'Thirty Days Of Python'.\n",
    "\n",
    "a = \"Thirty \"\n",
    "b = \"Days \"\n",
    "c = \"of \"\n",
    "d = \"Python\"\n",
    "e = a+b+c+d\n",
    "e"
   ]
  },
  {
   "cell_type": "code",
   "execution_count": 28,
   "id": "7d2ea2d4-89e4-4609-b19a-2adaa6060a28",
   "metadata": {},
   "outputs": [
    {
     "name": "stdout",
     "output_type": "stream",
     "text": [
      "Coding For All\n"
     ]
    }
   ],
   "source": [
    "# Concatenate the string 'Coding', 'For' , 'All' to a single string, 'Coding For All'.\n",
    "\n",
    "string1 = 'Coding'\n",
    "string2 = 'For'\n",
    "string3 = 'All'\n",
    "\n",
    "result = string1 + ' ' + string2 + ' ' + string3\n",
    "\n",
    "print(result)"
   ]
  },
  {
   "cell_type": "code",
   "execution_count": 29,
   "id": "b4db1c87-4f4a-4f04-97ad-08b69269ec73",
   "metadata": {},
   "outputs": [
    {
     "data": {
      "text/plain": [
       "'Coding For All'"
      ]
     },
     "execution_count": 29,
     "metadata": {},
     "output_type": "execute_result"
    }
   ],
   "source": [
    "# Declare a variable named company and assign it to an initial value \"Coding For All\".\n",
    "\n",
    "company = \"Coding For All\"\n",
    "company"
   ]
  },
  {
   "cell_type": "code",
   "execution_count": 30,
   "id": "c2b6e9b2-765e-4f69-8a7d-639283d729e7",
   "metadata": {},
   "outputs": [
    {
     "name": "stdout",
     "output_type": "stream",
     "text": [
      "Coding For All\n"
     ]
    }
   ],
   "source": [
    "# Print the variable company using _print()_.\n",
    "\n",
    "company = \"Coding For All\"\n",
    "print(company)"
   ]
  },
  {
   "cell_type": "code",
   "execution_count": 32,
   "id": "685d6bde-bfc9-4ad9-a228-8f8e10302b56",
   "metadata": {},
   "outputs": [
    {
     "name": "stdout",
     "output_type": "stream",
     "text": [
      "14\n"
     ]
    }
   ],
   "source": [
    "# Print the length of the company string using _len()_ method and _print()_.\n",
    "\n",
    "company = \"Coding For All\"\n",
    "com = len(company)\n",
    "print(com)"
   ]
  },
  {
   "cell_type": "code",
   "execution_count": 35,
   "id": "8050bdc2-db35-4435-96e6-2f2c4899a8db",
   "metadata": {},
   "outputs": [
    {
     "data": {
      "text/plain": [
       "'CODING FOR ALL'"
      ]
     },
     "execution_count": 35,
     "metadata": {},
     "output_type": "execute_result"
    }
   ],
   "source": [
    "# Change all the characters to uppercase letters using _upper()_ method.\n",
    "\n",
    "com = company.upper()\n",
    "com"
   ]
  },
  {
   "cell_type": "code",
   "execution_count": 36,
   "id": "3cb8877c-3382-4bfb-bb6c-81d964d1b015",
   "metadata": {},
   "outputs": [
    {
     "data": {
      "text/plain": [
       "'coding for all'"
      ]
     },
     "execution_count": 36,
     "metadata": {},
     "output_type": "execute_result"
    }
   ],
   "source": [
    "# Change all the characters to lowercase letters using _lower()_ method.\n",
    "\n",
    "com = company.lower()\n",
    "com"
   ]
  },
  {
   "cell_type": "code",
   "execution_count": 42,
   "id": "99d42d81-8089-4ba9-878f-a04dd5c2ca2d",
   "metadata": {},
   "outputs": [
    {
     "name": "stdout",
     "output_type": "stream",
     "text": [
      "Coding for all\n",
      "Coding For All\n",
      "cODING fOR aLL\n"
     ]
    }
   ],
   "source": [
    "# Use capitalize(), title(), swapcase() methods to format the value of the string _Coding For All_.\n",
    "\n",
    "var1 = company.capitalize()\n",
    "var2 = company.title()\n",
    "var3 = company.swapcase()\n",
    "\n",
    "print(var1)\n",
    "print(var2)\n",
    "print(var3)\n"
   ]
  },
  {
   "cell_type": "code",
   "execution_count": 43,
   "id": "6d3c4275-5925-4988-affd-988baf578055",
   "metadata": {},
   "outputs": [
    {
     "name": "stdout",
     "output_type": "stream",
     "text": [
      "For All\n"
     ]
    }
   ],
   "source": [
    "# Cut(slice) out the first word of _Coding For All_ string.\n",
    "\n",
    "string = \"Coding For All\"\n",
    "\n",
    "sliced_string = string[string.find(' ') + 1:]\n",
    "\n",
    "print(sliced_string)"
   ]
  },
  {
   "cell_type": "code",
   "execution_count": 44,
   "id": "6ebaffae-6e55-49e1-aeba-510604bdca1d",
   "metadata": {},
   "outputs": [
    {
     "name": "stdout",
     "output_type": "stream",
     "text": [
      "'Coding' is present in the string.\n"
     ]
    }
   ],
   "source": [
    "# Check if _Coding For All_ string contains a word Coding using the method index, find or other methods.\n",
    "\n",
    "string = \"_Coding For All_\"\n",
    "word_to_find = \"Coding\"\n",
    "\n",
    "if word_to_find in string:\n",
    "  print(f\"'{word_to_find}' is present in the string.\")\n",
    "else:\n",
    "  print(f\"'{word_to_find}' is not present in the string.\")"
   ]
  },
  {
   "cell_type": "code",
   "execution_count": 47,
   "id": "949b9aa0-a6f3-4b74-b3d0-e1da3b24018b",
   "metadata": {},
   "outputs": [
    {
     "data": {
      "text/plain": [
       "'Python For All'"
      ]
     },
     "execution_count": 47,
     "metadata": {},
     "output_type": "execute_result"
    }
   ],
   "source": [
    "# Replace the word coding in the string 'Coding For All' to Python.\n",
    "\n",
    "string = \"Coding For All\"\n",
    "r_string = string.replace(\"Coding\",\"Python\")\n",
    "\n",
    "r_string"
   ]
  },
  {
   "cell_type": "code",
   "execution_count": 49,
   "id": "df2030e7-8ee6-49ee-8ad2-e7f7590bef6a",
   "metadata": {},
   "outputs": [
    {
     "data": {
      "text/plain": [
       "'Python for All'"
      ]
     },
     "execution_count": 49,
     "metadata": {},
     "output_type": "execute_result"
    }
   ],
   "source": [
    "# Change Python for Everyone to Python for All using the replace method or other methods.\n",
    "\n",
    "string = \"Python for Everyone\"\n",
    "r_string = string.replace(\"Python for Everyone\",\"Python for All\")\n",
    "\n",
    "r_string"
   ]
  },
  {
   "cell_type": "code",
   "execution_count": 52,
   "id": "241eb653-acfa-4fe7-8b5d-78b3462ddeb3",
   "metadata": {},
   "outputs": [
    {
     "data": {
      "text/plain": [
       "['Coding', 'For', 'All']"
      ]
     },
     "execution_count": 52,
     "metadata": {},
     "output_type": "execute_result"
    }
   ],
   "source": [
    "# Split the string 'Coding For All' using space as the separator (split()) .\n",
    "\n",
    "var = \"Coding For All\"\n",
    "var1 = var.split()\n",
    "var1"
   ]
  },
  {
   "cell_type": "code",
   "execution_count": 53,
   "id": "5fba1f26-5c61-4226-99c9-6b213a87b01b",
   "metadata": {},
   "outputs": [
    {
     "data": {
      "text/plain": [
       "['Facebook,', 'Google,', 'Microsoft,', 'Apple,', 'IBM,', 'Oracle,', 'Amazon']"
      ]
     },
     "execution_count": 53,
     "metadata": {},
     "output_type": "execute_result"
    }
   ],
   "source": [
    "# \"Facebook, Google, Microsoft, Apple, IBM, Oracle, Amazon\" split the string at the comma.\n",
    "\n",
    "var = \"Facebook, Google, Microsoft, Apple, IBM, Oracle, Amazon\"\n",
    "var1 = var.split()\n",
    "var1"
   ]
  },
  {
   "cell_type": "code",
   "execution_count": 56,
   "id": "88104d7c-3499-4053-b56e-6f800f01a5c3",
   "metadata": {},
   "outputs": [
    {
     "data": {
      "text/plain": [
       "'C'"
      ]
     },
     "execution_count": 56,
     "metadata": {},
     "output_type": "execute_result"
    }
   ],
   "source": [
    "# What is the character at index 0 in the string _Coding For All_.\n",
    "\n",
    "var = \"Coding For All\"\n",
    "var1 = var[0]\n",
    "var1"
   ]
  },
  {
   "cell_type": "code",
   "execution_count": 58,
   "id": "74194629-4f44-42fa-b1f9-6863f6b5e093",
   "metadata": {},
   "outputs": [
    {
     "data": {
      "text/plain": [
       "'l'"
      ]
     },
     "execution_count": 58,
     "metadata": {},
     "output_type": "execute_result"
    }
   ],
   "source": [
    "# What is the last index of the string _Coding For All_.\n",
    "\n",
    "var1 = var[-1]\n",
    "var1"
   ]
  },
  {
   "cell_type": "code",
   "execution_count": 60,
   "id": "7a8074f0-309a-4e31-904c-1119cd8aea4c",
   "metadata": {},
   "outputs": [
    {
     "data": {
      "text/plain": [
       "' '"
      ]
     },
     "execution_count": 60,
     "metadata": {},
     "output_type": "execute_result"
    }
   ],
   "source": [
    "# What character is at index 10 in \"Coding For All\" string.\n",
    "\n",
    "var1 = var[10]\n",
    "var1\n"
   ]
  },
  {
   "cell_type": "code",
   "execution_count": 61,
   "id": "c79e043b-4246-4c6e-bce0-edaa317b89ec",
   "metadata": {},
   "outputs": [
    {
     "name": "stdout",
     "output_type": "stream",
     "text": [
      "PFE\n"
     ]
    }
   ],
   "source": [
    "# Create an acronym or an abbreviation for the name 'Python For Everyone'.\n",
    "\n",
    "name = \"Python For Everyone\"\n",
    "\n",
    "words = name.split()\n",
    "\n",
    "acronym = \"\"\n",
    "for word in words:\n",
    "    acronym += word[0].upper()\n",
    "\n",
    "print(acronym)"
   ]
  },
  {
   "cell_type": "code",
   "execution_count": 62,
   "id": "87d65b1f-1c18-4c5f-9b49-cb0ba8abec83",
   "metadata": {},
   "outputs": [
    {
     "name": "stdout",
     "output_type": "stream",
     "text": [
      "CFA\n"
     ]
    }
   ],
   "source": [
    "# Create an acronym or an abbreviation for the name 'Coding For All'.\n",
    "\n",
    "name = \"Coding For All\"\n",
    "\n",
    "words = name.split()\n",
    "\n",
    "acronym = \"\"\n",
    "for word in words:\n",
    "    acronym += word[0].upper()\n",
    "\n",
    "print(acronym)\n"
   ]
  },
  {
   "cell_type": "code",
   "execution_count": 2,
   "id": "b1d4b1c2-97e7-4e49-bd0d-fd717043c21b",
   "metadata": {},
   "outputs": [
    {
     "name": "stdout",
     "output_type": "stream",
     "text": [
      "The first 'C' is at index 0\n"
     ]
    }
   ],
   "source": [
    "# Use index to determine the position of the first occurrence of C in Coding For All.\n",
    "\n",
    "var = \"Coding For All\"\n",
    "C_index = var.find(\"C\")\n",
    "\n",
    "if C_index != -1:\n",
    "  print(f\"The first 'C' is at index {C_index}\")\n",
    "else:\n",
    "  print(\"There is no 'C' in the text.\")"
   ]
  },
  {
   "cell_type": "code",
   "execution_count": 3,
   "id": "b88abe3e-6e43-4e70-88cf-238b93f653b5",
   "metadata": {},
   "outputs": [
    {
     "name": "stdout",
     "output_type": "stream",
     "text": [
      "The first 'F' is at index 7\n"
     ]
    }
   ],
   "source": [
    "# Use index to determine the position of the first occurrence of F in Coding For All.\n",
    "\n",
    "var = \"Coding For All\"\n",
    "f_index = var.find(\"F\")\n",
    "\n",
    "if f_index != -1:\n",
    "  print(f\"The first 'F' is at index {f_index}\")\n",
    "else:\n",
    "  print(\"There is no 'F' in the text.\")"
   ]
  },
  {
   "cell_type": "code",
   "execution_count": 6,
   "id": "43abe234-fb63-46a4-8010-ea3c361ec4bd",
   "metadata": {},
   "outputs": [
    {
     "name": "stdout",
     "output_type": "stream",
     "text": [
      "The First 'L' is at index 13\n"
     ]
    }
   ],
   "source": [
    "# Use rfind to determine the position of the last occurrence of l in Coding For All People.\n",
    "\n",
    "var = \"Coding For All\"\n",
    "f_index = var.rfind(\"l\")\n",
    "\n",
    "if f_index != -1:\n",
    "    print(f\"The First 'L' is at index {f_index}\")\n",
    "else:\n",
    "    print(\"There is No 'L' in the text\")"
   ]
  },
  {
   "cell_type": "code",
   "execution_count": 7,
   "id": "81d6e2b1-76e9-4dfd-a3c6-91c322455de4",
   "metadata": {},
   "outputs": [
    {
     "name": "stdout",
     "output_type": "stream",
     "text": [
      "The first 'because' is at index 31\n"
     ]
    }
   ],
   "source": [
    "# Use index or find to find the position of the first occurrence of the word 'because' in the following sentence: 'You cannot end a sentence with because because because is a conjunction'\n",
    "\n",
    "sentence = \"You cannot end a sentence with because because because is a conjunction\"\n",
    "\n",
    "word = \"because\"\n",
    "index = sentence.find(word)\n",
    "\n",
    "print(f\"The first 'because' is at index {index}\" if index != -1 else \"The word 'because' is not found\")\n"
   ]
  },
  {
   "cell_type": "code",
   "execution_count": 8,
   "id": "77a30da7-1a1c-435b-9c24-6692ccc1b011",
   "metadata": {},
   "outputs": [
    {
     "name": "stdout",
     "output_type": "stream",
     "text": [
      "The last 'because' is at index 47\n",
      "The word 'because' is not found in the sentence.\n"
     ]
    }
   ],
   "source": [
    "# Use rindex to find the position of the last occurrence of the word because in the following sentence: 'You cannot end a sentence with because because because is a conjunction'\n",
    "\n",
    "sentence = \"You cannot end a sentence with because because because is a conjunction\"\n",
    "\n",
    "word = \"because\"\n",
    "last_index = sentence.rindex(word)\n",
    "\n",
    "print(f\"The last 'because' is at index {last_index}\")\n",
    "print(\"The word 'because' is not found in the sentence.\")"
   ]
  },
  {
   "cell_type": "code",
   "execution_count": 9,
   "id": "9d07bc72-cf2c-4fa9-8bf8-e7f3b7938242",
   "metadata": {},
   "outputs": [
    {
     "name": "stdout",
     "output_type": "stream",
     "text": [
      "because because because\n"
     ]
    }
   ],
   "source": [
    "# Slice out the phrase 'because because because' in the following sentence: 'You cannot end a sentence with because because because is a conjunction'\n",
    "\n",
    "sentence = \"You cannot end a sentence with because because because is a conjunction\"\n",
    "phrase = \"because because because\"\n",
    "\n",
    "start_index = sentence.find(phrase)\n",
    "\n",
    "sliced_text = sentence[start_index: start_index + len(phrase)] if start_index != -1 else None\n",
    "\n",
    "print(sliced_text)"
   ]
  },
  {
   "cell_type": "code",
   "execution_count": 10,
   "id": "16ca515a-d9d5-4e5f-ac38-45625a7885b7",
   "metadata": {},
   "outputs": [
    {
     "name": "stdout",
     "output_type": "stream",
     "text": [
      "The first 'because' is at index 31\n"
     ]
    }
   ],
   "source": [
    "# Find the position of the first occurrence of the word 'because' in the following sentence: 'You cannot end a sentence with because because because is a conjunction'sentence = \"You cannot end a sentence with because because because is a conjunction\"\n",
    "\n",
    "word = \"because\"\n",
    "index = sentence.find(word)\n",
    "\n",
    "print(f\"The first 'because' is at index {index}\" if index != -1 else \"No 'because' found\")"
   ]
  },
  {
   "cell_type": "code",
   "execution_count": 11,
   "id": "c647ba63-79c6-4cc3-baf0-8579c10e6981",
   "metadata": {},
   "outputs": [
    {
     "name": "stdout",
     "output_type": "stream",
     "text": [
      "because because because\n"
     ]
    }
   ],
   "source": [
    "# Slice out the phrase 'because because because' in the following sentence: 'You cannot end a sentence with because because because is a conjunction'\n",
    "\n",
    "sentence = \"You cannot end a sentence with because because because is a conjunction\"\n",
    "phrase = \"because because because\"\n",
    "\n",
    "start_index = sentence.find(phrase)\n",
    "sliced_text = sentence[start_index: start_index + len(phrase)] if start_index != -1 else None\n",
    "\n",
    "print(sliced_text)\n"
   ]
  },
  {
   "cell_type": "code",
   "execution_count": 12,
   "id": "b68e192f-6cd3-4ffe-a97e-49a3339b2607",
   "metadata": {},
   "outputs": [
    {
     "name": "stdout",
     "output_type": "stream",
     "text": [
      "False\n"
     ]
    }
   ],
   "source": [
    "# Does '\\'Coding For All' start with a substring _Coding_?\n",
    "\n",
    "text = \"Coding For All\"\n",
    "substring = \"Coding\"\n",
    "\n",
    "print(text[1:].startswith(substring))"
   ]
  },
  {
   "cell_type": "code",
   "execution_count": 13,
   "id": "98deff03-448e-4743-87ba-d4f93bffc9b6",
   "metadata": {},
   "outputs": [
    {
     "name": "stdout",
     "output_type": "stream",
     "text": [
      "False\n"
     ]
    }
   ],
   "source": [
    "# Does 'Coding For All' end with a substring _coding_?\n",
    "\n",
    "text = \"Coding For All\"\n",
    "substring = \"coding\"\n",
    "\n",
    "print(text.endswith(substring))"
   ]
  },
  {
   "cell_type": "code",
   "execution_count": 14,
   "id": "048acd0c-9e2d-451b-b804-78eaecab740e",
   "metadata": {},
   "outputs": [
    {
     "name": "stdout",
     "output_type": "stream",
     "text": [
      "&nbsp;&nbsp; Coding For All &nbsp;&nbsp;&nbsp; &nbsp;\n"
     ]
    }
   ],
   "source": [
    "# '&nbsp;&nbsp; Coding For All &nbsp;&nbsp;&nbsp; &nbsp;' &nbsp;, remove the left and right trailing spaces in the given string.\n",
    "\n",
    "text = '&nbsp;&nbsp; Coding For All &nbsp;&nbsp;&nbsp; &nbsp;'\n",
    "\n",
    "# Use strip() to remove leading and trailing whitespace characters\n",
    "stripped_text = text.strip()\n",
    "\n",
    "print(stripped_text)"
   ]
  },
  {
   "cell_type": "code",
   "execution_count": 15,
   "id": "efbf7f5d-cc6d-4675-907d-628c1dcee872",
   "metadata": {},
   "outputs": [
    {
     "name": "stdout",
     "output_type": "stream",
     "text": [
      "False\n",
      "True\n",
      "\n",
      "Explanation:\n",
      "Variable names can only contain alphanumeric characters (a-z, A-Z, 0-9) and underscores (_).\n",
      "variable1 (30DaysOfPython) only contains valid characters, so it returns True.\n",
      "variable2 (thirty_days_of_python) contains spaces, which are not allowed in variable names, so it returns False.\n"
     ]
    }
   ],
   "source": [
    "\"\"\"Which one of the following variables return True when we use the method isidentifier():\n",
    "    - 30DaysOfPython\n",
    "    - thirty_days_of_python\"\"\"\n",
    "\n",
    "variable1 = \"30DaysOfPython\"\n",
    "variable2 = \"thirty_days_of_python\"\n",
    "\n",
    "print(variable1.isidentifier())  # Output: True\n",
    "print(variable2.isidentifier())  # Output: False\n",
    "\n",
    "print(\"\\nExplanation:\")\n",
    "print(\"Variable names can only contain alphanumeric characters (a-z, A-Z, 0-9) and underscores (_).\")\n",
    "print(\"variable1 (30DaysOfPython) only contains valid characters, so it returns True.\")\n",
    "print(\"variable2 (thirty_days_of_python) contains spaces, which are not allowed in variable names, so it returns False.\")"
   ]
  },
  {
   "cell_type": "code",
   "execution_count": 16,
   "id": "0449daff-ae54-466d-9975-a06fc592288b",
   "metadata": {},
   "outputs": [
    {
     "name": "stdout",
     "output_type": "stream",
     "text": [
      "Django# Flask# Bottle# Pyramid# Falcon\n"
     ]
    }
   ],
   "source": [
    "# The following list contains the names of some of python libraries: ['Django', 'Flask', 'Bottle', 'Pyramid', 'Falcon']. Join the list with a hash with space string.\n",
    "\n",
    "python_libs = ['Django', 'Flask', 'Bottle', 'Pyramid', 'Falcon']\n",
    "\n",
    "\n",
    "joined_string = '# '.join(python_libs)\n",
    "\n",
    "print(joined_string)"
   ]
  },
  {
   "cell_type": "code",
   "execution_count": 17,
   "id": "12d62e52-7c2e-4684-9a6c-5ff4b11fa2ab",
   "metadata": {},
   "outputs": [
    {
     "name": "stdout",
     "output_type": "stream",
     "text": [
      "I am enjoying this challenge.\n",
      "I just wonder what is next.\n"
     ]
    }
   ],
   "source": [
    "\"\"\"Use the new line escape sequence to separate the following sentences.\n",
    "    ```py\n",
    "    I am enjoying this challenge.\n",
    "    I just wonder what is next.\"\"\"\n",
    "\n",
    "print(\"I am enjoying this challenge.\\nI just wonder what is next.\")"
   ]
  },
  {
   "cell_type": "code",
   "execution_count": 18,
   "id": "6bf486ef-e658-45d7-a254-6db901c89502",
   "metadata": {},
   "outputs": [
    {
     "name": "stdout",
     "output_type": "stream",
     "text": [
      "Name\t\tAge\t\tCountry\t\tCity\n",
      "Asabeneh\t250\t\tFinland\t\tHelsinki\n"
     ]
    }
   ],
   "source": [
    "\"\"\"34. Use a tab escape sequence to write the following lines.\n",
    "    ```py\n",
    "    Name      Age     Country   City\n",
    "    Asabeneh  250     Finland   Helsinki\"\"\"\n",
    "\n",
    "print(\"Name\\t\\tAge\\t\\tCountry\\t\\tCity\")\n",
    "print(\"Asabeneh\\t250\\t\\tFinland\\t\\tHelsinki\")"
   ]
  },
  {
   "cell_type": "code",
   "execution_count": 19,
   "id": "1ac2d878-87e1-4cd8-a26d-628c37d0f4f1",
   "metadata": {},
   "outputs": [
    {
     "name": "stdout",
     "output_type": "stream",
     "text": [
      "radius = 10\n",
      "area = 314.00\n",
      "The area of a circle with radius 10 is 314.00 meters square.\n"
     ]
    }
   ],
   "source": [
    "\"\"\"35. Use the string formatting method to display the following:\n",
    "```sh\n",
    "radius = 10\n",
    "area = 3.14 * radius ** 2\n",
    "The area of a circle with radius 10 is 314 meters square.\n",
    "```\"\"\"\n",
    "radius = 10\n",
    "area = 3.14 * radius**2\n",
    "\n",
    "# Use f-strings for formatted output\n",
    "print(f\"radius = {radius}\")\n",
    "print(f\"area = {area:.2f}\")  # Format area to two decimal places\n",
    "print(f\"The area of a circle with radius {radius} is {area:.2f} meters square.\")"
   ]
  },
  {
   "cell_type": "code",
   "execution_count": 20,
   "id": "de8d8058-7d83-4d1c-aace-41adf96212be",
   "metadata": {},
   "outputs": [
    {
     "name": "stdout",
     "output_type": "stream",
     "text": [
      "8 + 6 = 14\n",
      "8 - 6 = 2\n",
      "8 * 6 = 48\n",
      "8 / 6 = 1.33\n",
      "8 % 6 = 2\n",
      "8 // 6 = 1\n",
      "8 ** 6 = 262144\n"
     ]
    }
   ],
   "source": [
    "\"\"\"Make the following using string formatting methods:\n",
    "\n",
    "```sh\n",
    "8 + 6 = 14\n",
    "8 - 6 = 2\n",
    "8 * 6 = 48\n",
    "8 / 6 = 1.33\n",
    "8 % 6 = 2\n",
    "8 // 6 = 1\n",
    "8 ** 6 = 262144\n",
    "```\"\"\"\n",
    "\n",
    "num1 = 8\n",
    "num2 = 6\n",
    "\n",
    "# Use f-strings for calculations and formatted output\n",
    "print(f\"{num1} + {num2} = {num1 + num2}\")\n",
    "print(f\"{num1} - {num2} = {num1 - num2}\")\n",
    "print(f\"{num1} * {num2} = {num1 * num2}\")\n",
    "print(f\"{num1} / {num2} = {num1 / num2:.2f}\")  # Format to two decimal places\n",
    "print(f\"{num1} % {num2} = {num1 % num2}\")\n",
    "print(f\"{num1} // {num2} = {num1 // num2}\")\n",
    "print(f\"{num1} ** {num2} = {num1 ** num2}\")"
   ]
  },
  {
   "cell_type": "code",
   "execution_count": null,
   "id": "dbad2e9b-d6be-498e-92da-9544317e8406",
   "metadata": {},
   "outputs": [],
   "source": []
  },
  {
   "cell_type": "markdown",
   "id": "ba2679f4-6922-4042-bd9a-097585230310",
   "metadata": {},
   "source": [
    "# List"
   ]
  },
  {
   "cell_type": "code",
   "execution_count": 24,
   "id": "dd653a18-ba8a-481c-8a66-06008679352f",
   "metadata": {},
   "outputs": [
    {
     "data": {
      "text/plain": [
       "list"
      ]
     },
     "execution_count": 24,
     "metadata": {},
     "output_type": "execute_result"
    }
   ],
   "source": [
    "# Declare an empty list\n",
    "\n",
    "lst = []\n",
    "lst = type(lst)\n",
    "lst"
   ]
  },
  {
   "cell_type": "code",
   "execution_count": 25,
   "id": "3a24fbaf-0554-4651-b486-272d7aad50c4",
   "metadata": {},
   "outputs": [
    {
     "data": {
      "text/plain": [
       "['Banana', 'Apple', 'Pineapple', 'Jackfruit', 'Strawberry']"
      ]
     },
     "execution_count": 25,
     "metadata": {},
     "output_type": "execute_result"
    }
   ],
   "source": [
    "# Declare a list with more than 5 items\n",
    "\n",
    "lst = [\"Banana\", \"Apple\", \"Pineapple\", \"Jackfruit\", \"Strawberry\"]\n",
    "lst"
   ]
  },
  {
   "cell_type": "code",
   "execution_count": 26,
   "id": "5d47b319-81d1-405b-b9ef-9bae9129f8c7",
   "metadata": {},
   "outputs": [
    {
     "data": {
      "text/plain": [
       "5"
      ]
     },
     "execution_count": 26,
     "metadata": {},
     "output_type": "execute_result"
    }
   ],
   "source": [
    "# Find the length of your list\n",
    "\n",
    "len(lst)"
   ]
  },
  {
   "cell_type": "code",
   "execution_count": 27,
   "id": "8a31f6a0-7968-49bf-bc0c-1d12440e5d41",
   "metadata": {},
   "outputs": [
    {
     "name": "stdout",
     "output_type": "stream",
     "text": [
      "First item: Banana\n",
      "Middle item: Pineapple\n",
      "Last item: Strawberry\n"
     ]
    }
   ],
   "source": [
    "# Get the first item, the middle item and the last item of the list\n",
    "\n",
    "list = [\"Banana\", \"Apple\", \"Pineapple\", \"Jackfruit\", \"Strawberry\"]\n",
    "\n",
    "first_item = list[0]\n",
    "last_item = list[-1]\n",
    "\n",
    "middle_index = len(list) // 2\n",
    "middle_item = list[middle_index]\n",
    "\n",
    "print(f\"First item: {first_item}\")\n",
    "print(f\"Middle item: {middle_item}\")\n",
    "print(f\"Last item: {last_item}\")"
   ]
  },
  {
   "cell_type": "code",
   "execution_count": 29,
   "id": "da3aff66-247e-4148-b054-c0d2d189f450",
   "metadata": {},
   "outputs": [
    {
     "data": {
      "text/plain": [
       "['Parag', 28, 5.11, 'not_married', 'Wardha']"
      ]
     },
     "execution_count": 29,
     "metadata": {},
     "output_type": "execute_result"
    }
   ],
   "source": [
    "# Declare a list called mixed_data_types, put your(name, age, height, marital status, address)\n",
    "\n",
    "lst = [\"Parag\", 28, 5.11, \"not_married\", \"Wardha\"]\n",
    "lst"
   ]
  },
  {
   "cell_type": "code",
   "execution_count": 30,
   "id": "c3d21893-05ee-471e-9619-856310225b77",
   "metadata": {},
   "outputs": [
    {
     "data": {
      "text/plain": [
       "['Facebook', 'Google', 'Microsoft', 'Apple', 'IBM', 'Oracle', 'Amazon']"
      ]
     },
     "execution_count": 30,
     "metadata": {},
     "output_type": "execute_result"
    }
   ],
   "source": [
    "# Declare a list variable named it_companies and assign initial values Facebook, Google, Microsoft, Apple, IBM, Oracle and Amazon.\n",
    "\n",
    "it_company = [\"Facebook\", \"Google\", \"Microsoft\", \"Apple\", \"IBM\", \"Oracle\", \"Amazon\"]\n",
    "it_company"
   ]
  },
  {
   "cell_type": "code",
   "execution_count": 31,
   "id": "37604d1d-b6cf-4e00-8a5e-8e8b079278de",
   "metadata": {},
   "outputs": [
    {
     "name": "stdout",
     "output_type": "stream",
     "text": [
      "['Facebook', 'Google', 'Microsoft', 'Apple', 'IBM', 'Oracle', 'Amazon']\n"
     ]
    }
   ],
   "source": [
    "# Print the list using _print()_\n",
    "\n",
    "print(it_company)"
   ]
  },
  {
   "cell_type": "code",
   "execution_count": 32,
   "id": "202d9e00-91a7-4f44-b15c-ee5a9c142634",
   "metadata": {},
   "outputs": [
    {
     "name": "stdout",
     "output_type": "stream",
     "text": [
      "7\n"
     ]
    }
   ],
   "source": [
    "len_list = len(it_company)\n",
    "print(len_list)"
   ]
  },
  {
   "cell_type": "code",
   "execution_count": 35,
   "id": "fe3c08b8-f5e9-4ca2-b099-35486ba118a7",
   "metadata": {},
   "outputs": [
    {
     "name": "stdout",
     "output_type": "stream",
     "text": [
      "First item: Facebook\n",
      "Middle item: Apple\n",
      "Last item: Amazon\n"
     ]
    }
   ],
   "source": [
    "# Print the first, middle and last company\n",
    "\n",
    "it_company = [\"Facebook\", \"Google\", \"Microsoft\", \"Apple\", \"IBM\", \"Oracle\", \"Amazon\"]\n",
    "\n",
    "first_name = it_company[0]\n",
    "last_name = it_company[-1]\n",
    "\n",
    "middle_index = len(it_company) // 2\n",
    "middle_name = it_company[middle_index]\n",
    "\n",
    "print(f\"First item: {first_name}\")\n",
    "print(f\"Middle item: {middle_name}\")\n",
    "print(f\"Last item: {last_name}\")"
   ]
  },
  {
   "cell_type": "code",
   "execution_count": 49,
   "id": "e545718f-cb93-4522-ba7c-ea4486583e36",
   "metadata": {},
   "outputs": [],
   "source": [
    "# Print the list after modifying one of the companies\n",
    "\n",
    "it_company = [\"Facebook\", \"Google\", \"Microsoft\", \"Apple\", \"IBM\", \"Oracle\", \"Amazon\"]\n",
    "it_company.remove(\"IBM\")"
   ]
  },
  {
   "cell_type": "code",
   "execution_count": 50,
   "id": "452f6db9-66ff-47af-9233-3d6f5b285792",
   "metadata": {},
   "outputs": [
    {
     "data": {
      "text/plain": [
       "['Facebook', 'Google', 'Microsoft', 'Apple', 'Oracle', 'Amazon']"
      ]
     },
     "execution_count": 50,
     "metadata": {},
     "output_type": "execute_result"
    }
   ],
   "source": [
    "it_company"
   ]
  },
  {
   "cell_type": "code",
   "execution_count": 52,
   "id": "97a3269a-e121-4af6-8631-ccdb970ebcd1",
   "metadata": {},
   "outputs": [
    {
     "data": {
      "text/plain": [
       "['Facebook',\n",
       " 'Google',\n",
       " 'Microsoft',\n",
       " 'Apple',\n",
       " 'IBM',\n",
       " 'Oracle',\n",
       " 'Amazon',\n",
       " 'IT Company']"
      ]
     },
     "execution_count": 52,
     "metadata": {},
     "output_type": "execute_result"
    }
   ],
   "source": [
    "# Add an IT company to it_companies\n",
    "\n",
    "it_company = [\"Facebook\", \"Google\", \"Microsoft\", \"Apple\", \"IBM\", \"Oracle\", \"Amazon\"]\n",
    "it_company.append(\"IT Company\")\n",
    "it_company\n"
   ]
  },
  {
   "cell_type": "code",
   "execution_count": 53,
   "id": "d24f8438-b3a5-4822-868d-5a128e6c00dd",
   "metadata": {},
   "outputs": [
    {
     "name": "stdout",
     "output_type": "stream",
     "text": [
      "['Facebook', 'Google', 'Microsoft', 'Apple', [...], 'IBM', 'Oracle', 'Amazon', 'IT Company']\n"
     ]
    }
   ],
   "source": [
    "# Insert an IT company in the middle of the companies list\n",
    "\n",
    "it_company = [\"Facebook\", \"Google\", \"Microsoft\", \"Apple\", \"IBM\", \"Oracle\", \"Amazon\", \"IT Company\"]\n",
    "\n",
    "middle_index = len(it_company) // 2\n",
    "it_company.insert(middle_index, it_company)\n",
    "\n",
    "print(it_company)"
   ]
  },
  {
   "cell_type": "code",
   "execution_count": 63,
   "id": "26477742-b0a0-4f40-89ed-2007428bface",
   "metadata": {},
   "outputs": [
    {
     "name": "stdout",
     "output_type": "stream",
     "text": [
      "['FACEBOOK', 'GOOGLE', 'MICROSOFT', 'APPLE', 'IBM', 'ORACLE', 'AMAZON', 'IT COMPANY']\n"
     ]
    }
   ],
   "source": [
    "# Change one of the it_companies names to uppercase (IBM excluded!)\n",
    "\n",
    "it_company = [\"Facebook\", \"Google\", \"Microsoft\", \"Apple\", \"IBM\", \"Oracle\", \"Amazon\", \"IT Company\"]\n",
    "\n",
    "uppercase_list = [item.upper() for item in it_company]\n",
    "\n",
    "print(uppercase_list)"
   ]
  },
  {
   "cell_type": "code",
   "execution_count": 64,
   "id": "18fdc59a-8c99-4fd9-979f-de6bad6ebff8",
   "metadata": {},
   "outputs": [
    {
     "name": "stdout",
     "output_type": "stream",
     "text": [
      "Infosys#;&nbsp; TCS#;&nbsp; Wipro#;&nbsp; Accenture\n"
     ]
    }
   ],
   "source": [
    "# Join the it_companies with a string '#;&nbsp; '\n",
    "\n",
    "it_companies = [\"Infosys\", \"TCS\", \"Wipro\", \"Accenture\"]\n",
    "joined_string = '#;&nbsp; '.join(it_companies)\n",
    "\n",
    "print(joined_string)"
   ]
  },
  {
   "cell_type": "code",
   "execution_count": 69,
   "id": "d55e75ed-9888-4415-b38b-b066a800a937",
   "metadata": {},
   "outputs": [
    {
     "name": "stdout",
     "output_type": "stream",
     "text": [
      "Wipro exists in the list.\n"
     ]
    }
   ],
   "source": [
    "# Check if a certain company exists in the it_companies list.\n",
    "\n",
    "it_companies = [\"Infosys\", \"TCS\", \"Wipro\", \"Accenture\"]\n",
    "company_to_find = \"Wipro\"\n",
    "\n",
    "if company_to_find in it_companies:\n",
    "    print(f\"{company_to_find} exists in the list.\")\n",
    "else:\n",
    "    print(f\"{company_to_find} does not exist in the list.\")\n"
   ]
  },
  {
   "cell_type": "code",
   "execution_count": 70,
   "id": "83ddd491-9594-46ab-9914-ba34c72e4dcf",
   "metadata": {},
   "outputs": [
    {
     "name": "stdout",
     "output_type": "stream",
     "text": [
      "[1, 2, 3, 4, 5]\n"
     ]
    }
   ],
   "source": [
    "# Sort the list using sort() method\n",
    "\n",
    "my_list = [3, 1, 4, 5, 2]\n",
    "my_list.sort()\n",
    "\n",
    "print(my_list)"
   ]
  },
  {
   "cell_type": "code",
   "execution_count": 71,
   "id": "20ee7b28-b6a6-40a0-a6b0-b2550f60d955",
   "metadata": {},
   "outputs": [
    {
     "name": "stdout",
     "output_type": "stream",
     "text": [
      "[2, 5, 4, 1, 3]\n"
     ]
    }
   ],
   "source": [
    "# Reverse the list in descending order using reverse() method\n",
    "\n",
    "my_list = [3, 1, 4, 5, 2]\n",
    "my_list.reverse()\n",
    "\n",
    "print(my_list)"
   ]
  },
  {
   "cell_type": "code",
   "execution_count": 74,
   "id": "87bf9ec0-5957-49a6-822a-c49325fc1c18",
   "metadata": {},
   "outputs": [
    {
     "name": "stdout",
     "output_type": "stream",
     "text": [
      "['Infosys', 'TCS', 'Wipro']\n"
     ]
    }
   ],
   "source": [
    "# Slice out the first 3 companies from the list\n",
    "\n",
    "it_companies = [\"Infosys\", \"TCS\", \"Wipro\", \"Accenture\", \"Cognizant\"]\n",
    "\n",
    "first_three_companies = it_companies[:3]\n",
    "\n",
    "print(first_three_companies)"
   ]
  },
  {
   "cell_type": "code",
   "execution_count": 76,
   "id": "d94a150e-1ec7-4e6b-b3b6-efd5e89a6ced",
   "metadata": {},
   "outputs": [
    {
     "name": "stdout",
     "output_type": "stream",
     "text": [
      "['Wipro', 'Accenture', 'Cognizant']\n"
     ]
    }
   ],
   "source": [
    "# Slice out the last 3 companies from the list\n",
    "\n",
    "it_companies = [\"Infosys\", \"TCS\", \"Wipro\", \"Accenture\", \"Cognizant\"]\n",
    "\n",
    "first_three_companies = it_companies[-3:]\n",
    "\n",
    "print(first_three_companies)"
   ]
  },
  {
   "cell_type": "code",
   "execution_count": 78,
   "id": "3b17673f-7939-45ad-975c-2ac7ae54397d",
   "metadata": {},
   "outputs": [
    {
     "name": "stdout",
     "output_type": "stream",
     "text": [
      "Wipro\n"
     ]
    }
   ],
   "source": [
    "# Slice out the middle IT company or companies from the list\n",
    "\n",
    "it_companies = [\"Infosys\", \"TCS\", \"Wipro\", \"Accenture\", \"Cognizant\"]\n",
    "\n",
    "num_companies = len(it_companies)\n",
    "\n",
    "middle_index = num_companies // 2\n",
    "\n",
    "middle_companies = (\n",
    "    it_companies[middle_index] if num_companies % 2 == 1 else it_companies[middle_index:middle_index + 1]\n",
    ")\n",
    "\n",
    "print(middle_companies)"
   ]
  },
  {
   "cell_type": "code",
   "execution_count": 83,
   "id": "b3414642-e6eb-4c50-b462-b8f43bdef699",
   "metadata": {},
   "outputs": [
    {
     "name": "stdout",
     "output_type": "stream",
     "text": [
      "['TCS', 'Wipro', 'Accenture', 'Cognizant']\n"
     ]
    }
   ],
   "source": [
    "# 21. Remove the first IT company from the list\n",
    "\n",
    "it_companies = [\"Infosys\", \"TCS\", \"Wipro\", \"Accenture\", \"Cognizant\"]\n",
    "\n",
    "companies_without_first = it_companies[1:]\n",
    "\n",
    "print(companies_without_first)"
   ]
  },
  {
   "cell_type": "code",
   "execution_count": 84,
   "id": "0bf9eae8-d861-4c06-8463-a0b689256632",
   "metadata": {},
   "outputs": [
    {
     "name": "stdout",
     "output_type": "stream",
     "text": [
      "['Infosys', 'TCS', 'Accenture', 'Cognizant']\n"
     ]
    }
   ],
   "source": [
    "# Remove the middle IT company or companies from the list\n",
    "\n",
    "it_companies = [\"Infosys\", \"TCS\", \"Wipro\", \"Accenture\", \"Cognizant\"]\n",
    "\n",
    "num_companies = len(it_companies)\n",
    "middle_index = num_companies // 2\n",
    "\n",
    "del it_companies[middle_index:middle_index + (num_companies % 2)]\n",
    "\n",
    "print(it_companies)"
   ]
  },
  {
   "cell_type": "code",
   "execution_count": 85,
   "id": "c3467868-2c52-42a7-8609-c12517e93131",
   "metadata": {},
   "outputs": [
    {
     "name": "stdout",
     "output_type": "stream",
     "text": [
      "['Infosys', 'TCS', 'Wipro', 'Accenture']\n",
      "Cognizant\n"
     ]
    }
   ],
   "source": [
    "# Remove the last IT company from the list\n",
    "\n",
    "it_companies = [\"Infosys\", \"TCS\", \"Wipro\", \"Accenture\", \"Cognizant\"]\n",
    "\n",
    "last_company_removed = it_companies.pop(-1)\n",
    "\n",
    "print(it_companies)\n",
    "print(last_company_removed)"
   ]
  },
  {
   "cell_type": "code",
   "execution_count": 86,
   "id": "fea9a25c-ce01-40e2-95e4-ac9acde8a577",
   "metadata": {},
   "outputs": [
    {
     "name": "stdout",
     "output_type": "stream",
     "text": [
      "['Infosys', 'TCS', 'Wipro', 'Accenture']\n"
     ]
    }
   ],
   "source": [
    "print(it_companies)\n"
   ]
  },
  {
   "cell_type": "code",
   "execution_count": 87,
   "id": "3d2b33c7-68a6-4de0-809f-475f88dddf07",
   "metadata": {},
   "outputs": [
    {
     "name": "stdout",
     "output_type": "stream",
     "text": [
      "[]\n"
     ]
    }
   ],
   "source": [
    "# 24. Remove all IT companies from the list\n",
    "\n",
    "it_companies = [\"Infosys\", \"TCS\", \"Wipro\", \"Accenture\", \"Cognizant\"]\n",
    "\n",
    "it_companies.clear()\n",
    "\n",
    "print(it_companies)"
   ]
  },
  {
   "cell_type": "code",
   "execution_count": 1,
   "id": "2b0190e6-f2bc-4c24-9310-08ade20b62c9",
   "metadata": {},
   "outputs": [
    {
     "ename": "NameError",
     "evalue": "name 'it_companies' is not defined",
     "output_type": "error",
     "traceback": [
      "\u001b[1;31m---------------------------------------------------------------------------\u001b[0m",
      "\u001b[1;31mNameError\u001b[0m                                 Traceback (most recent call last)",
      "Cell \u001b[1;32mIn[1], line 6\u001b[0m\n\u001b[0;32m      3\u001b[0m it_companies \u001b[38;5;241m=\u001b[39m [\u001b[38;5;124m\"\u001b[39m\u001b[38;5;124mInfosys\u001b[39m\u001b[38;5;124m\"\u001b[39m, \u001b[38;5;124m\"\u001b[39m\u001b[38;5;124mTCS\u001b[39m\u001b[38;5;124m\"\u001b[39m, \u001b[38;5;124m\"\u001b[39m\u001b[38;5;124mWipro\u001b[39m\u001b[38;5;124m\"\u001b[39m, \u001b[38;5;124m\"\u001b[39m\u001b[38;5;124mAccenture\u001b[39m\u001b[38;5;124m\"\u001b[39m, \u001b[38;5;124m\"\u001b[39m\u001b[38;5;124mCognizant\u001b[39m\u001b[38;5;124m\"\u001b[39m]\n\u001b[0;32m      4\u001b[0m \u001b[38;5;28;01mdel\u001b[39;00m it_companies\n\u001b[1;32m----> 6\u001b[0m it_companies\n",
      "\u001b[1;31mNameError\u001b[0m: name 'it_companies' is not defined"
     ]
    }
   ],
   "source": [
    "# 25. Destroy the IT companies list\n",
    "\n",
    "it_companies = [\"Infosys\", \"TCS\", \"Wipro\", \"Accenture\", \"Cognizant\"]\n",
    "del it_companies\n",
    "\n",
    "it_companies"
   ]
  },
  {
   "cell_type": "code",
   "execution_count": 90,
   "id": "a111af3c-645f-4e2d-a972-209024acd225",
   "metadata": {},
   "outputs": [
    {
     "name": "stdout",
     "output_type": "stream",
     "text": [
      "['HTML', 'CSS', 'JS', 'React', 'Redux', 'Node', 'Express', 'MongoDB']\n"
     ]
    }
   ],
   "source": [
    "\"\"\" Join the following lists:\n",
    "\n",
    "    ```py\n",
    "    front_end = ['HTML', 'CSS', 'JS', 'React', 'Redux']\n",
    "    back_end = ['Node','Express', 'MongoDB'] \"\"\"\n",
    "\n",
    "front_end = ['HTML', 'CSS', 'JS', 'React', 'Redux']\n",
    "back_end = ['Node', 'Express', 'MongoDB']\n",
    "\n",
    "full_stack = front_end + back_end\n",
    "\n",
    "print(full_stack)"
   ]
  },
  {
   "cell_type": "code",
   "execution_count": 91,
   "id": "4c6990e4-7b74-4992-88f9-6895d4c1273e",
   "metadata": {},
   "outputs": [
    {
     "name": "stdout",
     "output_type": "stream",
     "text": [
      "Original full_stack: ['HTML', 'CSS', 'JS', 'React', 'Redux', 'Node', 'Express', 'MongoDB']\n",
      "Modified full_stack_copy: ['HTML', 'CSS', 'JS', 'React', 'Redux', 'Python', 'SQL', 'Node', 'Express', 'MongoDB']\n"
     ]
    }
   ],
   "source": [
    "front_end = ['HTML', 'CSS', 'JS', 'React', 'Redux']\n",
    "back_end = ['Node', 'Express', 'MongoDB']\n",
    "\n",
    "full_stack = front_end + back_end\n",
    "\n",
    "full_stack_copy = full_stack.copy()\n",
    "\n",
    "insert_index = full_stack_copy.index('Redux') + 1\n",
    "full_stack_copy.insert(insert_index, 'Python')\n",
    "full_stack_copy.insert(insert_index + 1, 'SQL')\n",
    "\n",
    "print(\"Original full_stack:\", full_stack) \n",
    "print(\"Modified full_stack_copy:\", full_stack_copy)"
   ]
  },
  {
   "cell_type": "code",
   "execution_count": 92,
   "id": "3565a02f-c79b-4d80-9fe1-f30b020cd1b4",
   "metadata": {},
   "outputs": [
    {
     "name": "stdout",
     "output_type": "stream",
     "text": [
      "Sorted Ages: [19, 19, 20, 22, 24, 24, 24, 25, 25, 26]\n",
      "Minimum Age: 19\n",
      "Maximum Age: 26\n"
     ]
    }
   ],
   "source": [
    "\"\"\" The following is a list of 10 students ages:\n",
    "\n",
    "```sh\n",
    "ages = [19, 22, 19, 24, 20, 25, 26, 24, 25, 24]\n",
    "```\n",
    "\n",
    "- Sort the list and find the min and max age \"\"\"\n",
    "\n",
    "ages = [19, 22, 19, 24, 20, 25, 26, 24, 25, 24]\n",
    "\n",
    "sorted_ages = sorted(ages)\n",
    "\n",
    "min_age = min(ages)\n",
    "max_age = max(ages)\n",
    "\n",
    "print(\"Sorted Ages:\", sorted_ages)  \n",
    "print(\"Minimum Age:\", min_age)     \n",
    "print(\"Maximum Age:\", max_age)"
   ]
  },
  {
   "cell_type": "code",
   "execution_count": 94,
   "id": "c17bd752-1572-4035-afde-0ae54fa5a1d0",
   "metadata": {},
   "outputs": [
    {
     "name": "stdout",
     "output_type": "stream",
     "text": [
      "[19, 22, 19, 24, 20, 25, 26, 24, 25, 24, 19, 26]\n"
     ]
    }
   ],
   "source": [
    "ages = [19, 22, 19, 24, 20, 25, 26, 24, 25, 24]\n",
    "\n",
    "min_age = min(ages)\n",
    "max_age = max(ages)\n",
    "\n",
    "ages.append(min_age)\n",
    "ages.append(max_age)\n",
    "\n",
    "print(ages)"
   ]
  },
  {
   "cell_type": "code",
   "execution_count": 96,
   "id": "90c04701-7808-4918-8b0c-bfd6e2ec3421",
   "metadata": {},
   "outputs": [
    {
     "name": "stdout",
     "output_type": "stream",
     "text": [
      "The average age is: 22.8\n"
     ]
    }
   ],
   "source": [
    "ages = [19, 22, 19, 24, 20, 25, 26, 24, 25, 24]\n",
    "\n",
    "total_age = sum(ages)\n",
    "average_age = total_age / len(ages)\n",
    "\n",
    "print(\"The average age is:\", average_age)"
   ]
  },
  {
   "cell_type": "code",
   "execution_count": 97,
   "id": "5aa516ce-b1eb-4f7f-b656-349510beed98",
   "metadata": {},
   "outputs": [
    {
     "name": "stdout",
     "output_type": "stream",
     "text": [
      "Range of ages: 7\n"
     ]
    }
   ],
   "source": [
    "ages = [19, 22, 19, 24, 20, 25, 26, 24, 25, 24]\n",
    "\n",
    "max_age = max(ages)\n",
    "min_age = min(ages)\n",
    "\n",
    "range_of_ages = max_age - min_age\n",
    "\n",
    "print(\"Range of ages:\", range_of_ages)"
   ]
  },
  {
   "cell_type": "code",
   "execution_count": 98,
   "id": "b730cbdc-cce2-4923-9e88-750c6d1a4f2c",
   "metadata": {},
   "outputs": [
    {
     "name": "stdout",
     "output_type": "stream",
     "text": [
      "The difference between the minimum age and the average age is: 3.8000000000000007\n",
      "The difference between the maximum age and the average age is: 3.1999999999999993\n",
      "The larger difference is: 3.8000000000000007\n"
     ]
    }
   ],
   "source": [
    "ages = [19, 22, 19, 24, 20, 25, 26, 24, 25, 24]\n",
    "\n",
    "average_age = sum(ages) / len(ages)\n",
    "min_age = min(ages)\n",
    "max_age = max(ages)\n",
    "\n",
    "difference_min_avg = abs(min_age - average_age)\n",
    "difference_max_avg = abs(max_age - average_age)\n",
    "\n",
    "print(f\"The difference between the minimum age and the average age is: {difference_min_avg}\")\n",
    "print(f\"The difference between the maximum age and the average age is: {difference_max_avg}\")\n",
    "\n",
    "larger_difference = difference_min_avg if difference_min_avg > difference_max_avg else difference_max_avg\n",
    "\n",
    "print(f\"The larger difference is: {larger_difference}\")"
   ]
  },
  {
   "cell_type": "markdown",
   "id": "e3402ecf-b9c5-4075-ade0-00ed401b9685",
   "metadata": {},
   "source": [
    "# Tuple"
   ]
  },
  {
   "cell_type": "code",
   "execution_count": 100,
   "id": "b486599a-9d73-49de-99a1-5e56a653c76b",
   "metadata": {},
   "outputs": [
    {
     "data": {
      "text/plain": [
       "tuple"
      ]
     },
     "execution_count": 100,
     "metadata": {},
     "output_type": "execute_result"
    }
   ],
   "source": [
    "# Create an empty tuple\n",
    "\n",
    "tup = ()\n",
    "tpl = type(tup)\n",
    "tpl"
   ]
  },
  {
   "cell_type": "code",
   "execution_count": 102,
   "id": "34f1f163-6ec0-47a8-91e1-e95d33bd5cb9",
   "metadata": {},
   "outputs": [
    {
     "data": {
      "text/plain": [
       "('Rohan', 'Sohan', 'Mohini')"
      ]
     },
     "execution_count": 102,
     "metadata": {},
     "output_type": "execute_result"
    }
   ],
   "source": [
    "# Create a tuple containing names of your sisters and your brothers (imaginary siblings are fine)\n",
    "\n",
    "sib = (\"Rohan\", \"Sohan\", \"Mohini\")\n",
    "sib"
   ]
  },
  {
   "cell_type": "code",
   "execution_count": 103,
   "id": "2084c906-e916-470a-9e06-aa31c0207179",
   "metadata": {},
   "outputs": [
    {
     "name": "stdout",
     "output_type": "stream",
     "text": [
      "('John', 'Peter', 'Mary', 'Jane')\n"
     ]
    }
   ],
   "source": [
    "# Join brothers and sisters tuples and assign it to siblings\n",
    "\n",
    "brothers = (\"John\", \"Peter\")\n",
    "sisters = (\"Mary\", \"Jane\")\n",
    "\n",
    "siblings = brothers + sisters\n",
    "\n",
    "print(siblings)"
   ]
  },
  {
   "cell_type": "code",
   "execution_count": 106,
   "id": "8a6f5e04-bae2-4c9d-b443-dd2f97326a19",
   "metadata": {},
   "outputs": [
    {
     "ename": "TypeError",
     "evalue": "tuple.count() takes exactly one argument (0 given)",
     "output_type": "error",
     "traceback": [
      "\u001b[1;31m---------------------------------------------------------------------------\u001b[0m",
      "\u001b[1;31mTypeError\u001b[0m                                 Traceback (most recent call last)",
      "Cell \u001b[1;32mIn[106], line 3\u001b[0m\n\u001b[0;32m      1\u001b[0m \u001b[38;5;66;03m# How many siblings do you have?\u001b[39;00m\n\u001b[1;32m----> 3\u001b[0m siblings\u001b[38;5;241m.\u001b[39mcount()\n",
      "\u001b[1;31mTypeError\u001b[0m: tuple.count() takes exactly one argument (0 given)"
     ]
    }
   ],
   "source": [
    "# How many siblings do you have?\n",
    "\n",
    "siblings.count()"
   ]
  },
  {
   "cell_type": "code",
   "execution_count": 107,
   "id": "db4db3f6-1d30-4131-93df-040ff3b19f50",
   "metadata": {},
   "outputs": [
    {
     "name": "stdout",
     "output_type": "stream",
     "text": [
      "Your family members are: ('David', 'Sarah', 'John', 'Peter', 'Mary', 'Jane')\n"
     ]
    }
   ],
   "source": [
    "# 5. Modify the siblings tuple and add the name of your father and mother and assign it to family_members\n",
    "\n",
    "brothers = (\"John\", \"Peter\")\n",
    "sisters = (\"Mary\", \"Jane\")\n",
    "\n",
    "siblings = brothers + sisters\n",
    "\n",
    "parents = (\"David\", \"Sarah\")  # Replace with your parents' names\n",
    "family_members = parents + siblings\n",
    "\n",
    "print(f\"Your family members are: {family_members}\")"
   ]
  },
  {
   "cell_type": "code",
   "execution_count": 109,
   "id": "dec48382-5ec9-4717-aa81-d56964d89575",
   "metadata": {},
   "outputs": [
    {
     "name": "stdout",
     "output_type": "stream",
     "text": [
      "Siblings: David\n",
      "Parents: ['Sarah', 'John', 'Peter', 'Mary', 'Jane']\n"
     ]
    }
   ],
   "source": [
    "# 1. Unpack siblings and parents from family_members\n",
    "\n",
    "brothers = (\"John\", \"Peter\")\n",
    "sisters = (\"Mary\", \"Jane\")\n",
    "\n",
    "siblings = brothers + sisters\n",
    "\n",
    "parents = (\"David\", \"Sarah\")  # Replace with your parents' names\n",
    "family_members = parents + siblings\n",
    "\n",
    "siblings, *parents = family_members\n",
    "\n",
    "print(f\"Siblings: {siblings}\")\n",
    "print(f\"Parents: {parents}\")"
   ]
  },
  {
   "cell_type": "code",
   "execution_count": 110,
   "id": "b1a8c887-91df-425b-b568-4f2df3903013",
   "metadata": {},
   "outputs": [
    {
     "name": "stdout",
     "output_type": "stream",
     "text": [
      "Food items: ('Apple', 'Banana', 'Orange', 'Carrot', 'Potato', 'Tomato', 'Milk', 'Eggs', 'Chicken')\n"
     ]
    }
   ],
   "source": [
    "# 1. Create fruits, vegetables and animal products tuples. Join the three tuples and assign it to a variable called food_stuff_tp.\n",
    "\n",
    "fruits = (\"Apple\", \"Banana\", \"Orange\")\n",
    "vegetables = (\"Carrot\", \"Potato\", \"Tomato\")\n",
    "animal_products = (\"Milk\", \"Eggs\", \"Chicken\")\n",
    "\n",
    "food_stuff_tp = fruits + vegetables + animal_products\n",
    "\n",
    "print(f\"Food items: {food_stuff_tp}\")"
   ]
  },
  {
   "cell_type": "code",
   "execution_count": 113,
   "id": "09c5a43a-2395-49af-804e-fbd98e61fc61",
   "metadata": {},
   "outputs": [
    {
     "ename": "TypeError",
     "evalue": "'list' object is not callable",
     "output_type": "error",
     "traceback": [
      "\u001b[1;31m---------------------------------------------------------------------------\u001b[0m",
      "\u001b[1;31mTypeError\u001b[0m                                 Traceback (most recent call last)",
      "Cell \u001b[1;32mIn[113], line 8\u001b[0m\n\u001b[0;32m      5\u001b[0m animal_products \u001b[38;5;241m=\u001b[39m (\u001b[38;5;124m\"\u001b[39m\u001b[38;5;124mMilk\u001b[39m\u001b[38;5;124m\"\u001b[39m, \u001b[38;5;124m\"\u001b[39m\u001b[38;5;124mEggs\u001b[39m\u001b[38;5;124m\"\u001b[39m, \u001b[38;5;124m\"\u001b[39m\u001b[38;5;124mChicken\u001b[39m\u001b[38;5;124m\"\u001b[39m)\n\u001b[0;32m      7\u001b[0m food_stuff_tp \u001b[38;5;241m=\u001b[39m fruits \u001b[38;5;241m+\u001b[39m vegetables \u001b[38;5;241m+\u001b[39m animal_products\n\u001b[1;32m----> 8\u001b[0m food_stuff_lt \u001b[38;5;241m=\u001b[39m \u001b[38;5;28mlist\u001b[39m(food_stuff_tp)\n\u001b[0;32m     10\u001b[0m \u001b[38;5;28mprint\u001b[39m(\u001b[38;5;124mf\u001b[39m\u001b[38;5;124m\"\u001b[39m\u001b[38;5;124mFood items (list): \u001b[39m\u001b[38;5;132;01m{\u001b[39;00mfood_stuff_lt\u001b[38;5;132;01m}\u001b[39;00m\u001b[38;5;124m\"\u001b[39m)\n",
      "\u001b[1;31mTypeError\u001b[0m: 'list' object is not callable"
     ]
    }
   ],
   "source": [
    "# 1. Change the about food_stuff_tp  tuple to a food_stuff_lt list\n",
    "\n",
    "fruits = (\"Apple\", \"Banana\", \"Orange\")\n",
    "vegetables = (\"Carrot\", \"Potato\", \"Tomato\")\n",
    "animal_products = (\"Milk\", \"Eggs\", \"Chicken\")\n",
    "\n",
    "food_stuff_tp = fruits + vegetables + animal_products\n",
    "food_stuff_lt = list(food_stuff_tp)\n",
    "\n",
    "print(f\"Food items (list): {food_stuff_lt}\")"
   ]
  },
  {
   "cell_type": "code",
   "execution_count": 114,
   "id": "43b86be2-39a9-43f6-af5e-47242383358d",
   "metadata": {},
   "outputs": [
    {
     "ename": "TypeError",
     "evalue": "'list' object is not callable",
     "output_type": "error",
     "traceback": [
      "\u001b[1;31m---------------------------------------------------------------------------\u001b[0m",
      "\u001b[1;31mTypeError\u001b[0m                                 Traceback (most recent call last)",
      "Cell \u001b[1;32mIn[114], line 4\u001b[0m\n\u001b[0;32m      1\u001b[0m \u001b[38;5;66;03m# Slice out the middle item or items from the food_stuff_tp tuple or food_stuff_lt list.\u001b[39;00m\n\u001b[0;32m      3\u001b[0m food_stuff_tp \u001b[38;5;241m=\u001b[39m fruits \u001b[38;5;241m+\u001b[39m vegetables \u001b[38;5;241m+\u001b[39m animal_products\n\u001b[1;32m----> 4\u001b[0m food_stuff_lt \u001b[38;5;241m=\u001b[39m \u001b[38;5;28mlist\u001b[39m(food_stuff_tp)\n\u001b[0;32m      6\u001b[0m num_items \u001b[38;5;241m=\u001b[39m \u001b[38;5;28mlen\u001b[39m(food_stuff_tp)\n\u001b[0;32m      7\u001b[0m middle_index \u001b[38;5;241m=\u001b[39m num_items \u001b[38;5;241m/\u001b[39m\u001b[38;5;241m/\u001b[39m \u001b[38;5;241m2\u001b[39m\n",
      "\u001b[1;31mTypeError\u001b[0m: 'list' object is not callable"
     ]
    }
   ],
   "source": [
    "# Slice out the middle item or items from the food_stuff_tp tuple or food_stuff_lt list.\n",
    "\n",
    "food_stuff_tp = fruits + vegetables + animal_products\n",
    "food_stuff_lt = list(food_stuff_tp)\n",
    "\n",
    "num_items = len(food_stuff_tp)\n",
    "middle_index = num_items // 2\n",
    "\n",
    "middle_item_tp = food_stuff_tp[middle_index:middle_index + (num_items % 2)]  # Tuple slicing\n",
    "middle_item_lt = food_stuff_lt[middle_index:middle_index + (num_items % 2)]  # List slicing\n",
    "\n",
    "print(f\"Middle item(s) from tuple (using integer division): {middle_item_tp}\")\n",
    "print(f\"Middle item(s) from list (using integer division): {middle_item_lt}\")"
   ]
  },
  {
   "cell_type": "code",
   "execution_count": 115,
   "id": "ebde7f13-4914-4ee8-8e3b-316989deaa5f",
   "metadata": {},
   "outputs": [
    {
     "ename": "TypeError",
     "evalue": "'list' object is not callable",
     "output_type": "error",
     "traceback": [
      "\u001b[1;31m---------------------------------------------------------------------------\u001b[0m",
      "\u001b[1;31mTypeError\u001b[0m                                 Traceback (most recent call last)",
      "Cell \u001b[1;32mIn[115], line 8\u001b[0m\n\u001b[0;32m      5\u001b[0m animal_products \u001b[38;5;241m=\u001b[39m (\u001b[38;5;124m\"\u001b[39m\u001b[38;5;124mMilk\u001b[39m\u001b[38;5;124m\"\u001b[39m, \u001b[38;5;124m\"\u001b[39m\u001b[38;5;124mEggs\u001b[39m\u001b[38;5;124m\"\u001b[39m, \u001b[38;5;124m\"\u001b[39m\u001b[38;5;124mChicken\u001b[39m\u001b[38;5;124m\"\u001b[39m)\n\u001b[0;32m      7\u001b[0m food_stuff_tp \u001b[38;5;241m=\u001b[39m fruits \u001b[38;5;241m+\u001b[39m vegetables \u001b[38;5;241m+\u001b[39m animal_products\n\u001b[1;32m----> 8\u001b[0m food_stuff_lt \u001b[38;5;241m=\u001b[39m \u001b[38;5;28mlist\u001b[39m(food_stuff_tp)\n\u001b[0;32m      9\u001b[0m first_three \u001b[38;5;241m=\u001b[39m food_stuff_lt[:\u001b[38;5;241m3\u001b[39m]\n\u001b[0;32m     11\u001b[0m list_length \u001b[38;5;241m=\u001b[39m \u001b[38;5;28mlen\u001b[39m(food_stuff_lt)\n",
      "\u001b[1;31mTypeError\u001b[0m: 'list' object is not callable"
     ]
    }
   ],
   "source": [
    "# Slice out the first three items and the last three items from food_staff_lt list\n",
    "\n",
    "fruits = (\"Apple\", \"Banana\", \"Orange\")\n",
    "vegetables = (\"Carrot\", \"Potato\", \"Tomato\")\n",
    "animal_products = (\"Milk\", \"Eggs\", \"Chicken\")\n",
    "\n",
    "food_stuff_tp = fruits + vegetables + animal_products\n",
    "food_stuff_lt = list(food_stuff_tp)\n",
    "first_three = food_stuff_lt[:3]\n",
    "\n",
    "list_length = len(food_stuff_lt)\n",
    "last_three_start_index = list_length - 3\n",
    "last_three = food_stuff_lt[last_three_start_index:]\n",
    "\n",
    "print(f\"First three items: {first_three}\")\n",
    "print(f\"Last three items: {last_three}\")"
   ]
  },
  {
   "cell_type": "code",
   "execution_count": 116,
   "id": "7510dec2-b15d-4287-ae45-af9b86cc58a9",
   "metadata": {},
   "outputs": [
    {
     "ename": "TypeError",
     "evalue": "'list' object is not callable",
     "output_type": "error",
     "traceback": [
      "\u001b[1;31m---------------------------------------------------------------------------\u001b[0m",
      "\u001b[1;31mTypeError\u001b[0m                                 Traceback (most recent call last)",
      "Cell \u001b[1;32mIn[116], line 8\u001b[0m\n\u001b[0;32m      5\u001b[0m animal_products \u001b[38;5;241m=\u001b[39m (\u001b[38;5;124m\"\u001b[39m\u001b[38;5;124mMilk\u001b[39m\u001b[38;5;124m\"\u001b[39m, \u001b[38;5;124m\"\u001b[39m\u001b[38;5;124mEggs\u001b[39m\u001b[38;5;124m\"\u001b[39m, \u001b[38;5;124m\"\u001b[39m\u001b[38;5;124mChicken\u001b[39m\u001b[38;5;124m\"\u001b[39m)\n\u001b[0;32m      7\u001b[0m food_stuff_tp \u001b[38;5;241m=\u001b[39m fruits \u001b[38;5;241m+\u001b[39m vegetables \u001b[38;5;241m+\u001b[39m animal_products\n\u001b[1;32m----> 8\u001b[0m food_stuff_lt \u001b[38;5;241m=\u001b[39m \u001b[38;5;28mlist\u001b[39m(food_stuff_tp)\n\u001b[0;32m      9\u001b[0m \u001b[38;5;28;01mdel\u001b[39;00m food_stuff_tp\n\u001b[0;32m     12\u001b[0m \u001b[38;5;28mprint\u001b[39m(\u001b[38;5;124mf\u001b[39m\u001b[38;5;124m\"\u001b[39m\u001b[38;5;124mFood items (list): \u001b[39m\u001b[38;5;132;01m{\u001b[39;00mfood_stuff_lt\u001b[38;5;132;01m}\u001b[39;00m\u001b[38;5;124m\"\u001b[39m)\n",
      "\u001b[1;31mTypeError\u001b[0m: 'list' object is not callable"
     ]
    }
   ],
   "source": [
    "# Delete the food_staff_tp tuple completely\n",
    "\n",
    "fruits = (\"Apple\", \"Banana\", \"Orange\")\n",
    "vegetables = (\"Carrot\", \"Potato\", \"Tomato\")\n",
    "animal_products = (\"Milk\", \"Eggs\", \"Chicken\")\n",
    "\n",
    "food_stuff_tp = fruits + vegetables + animal_products\n",
    "food_stuff_lt = list(food_stuff_tp)\n",
    "del food_stuff_tp\n",
    "\n",
    "\n",
    "print(f\"Food items (list): {food_stuff_lt}\")"
   ]
  },
  {
   "cell_type": "code",
   "execution_count": null,
   "id": "f8f9330a-b0d6-4141-b018-370613499914",
   "metadata": {},
   "outputs": [],
   "source": []
  },
  {
   "cell_type": "markdown",
   "id": "70413009-c414-4cb4-a352-9dc2ce72fcf9",
   "metadata": {},
   "source": [
    "Set and Operations"
   ]
  },
  {
   "cell_type": "code",
   "execution_count": 117,
   "id": "c831edac-aefb-4e15-b41e-f4bf743db474",
   "metadata": {},
   "outputs": [
    {
     "name": "stdout",
     "output_type": "stream",
     "text": [
      "Number of IT companies: 5\n"
     ]
    }
   ],
   "source": [
    "# 1. Find the length of the set it_companies\n",
    "\n",
    "it_companies = {\"Infosys\", \"TCS\", \"Wipro\", \"Accenture\", \"Cognizant\"}\n",
    "\n",
    "num_companies = len(it_companies)\n",
    "\n",
    "print(f\"Number of IT companies: {num_companies}\")"
   ]
  },
  {
   "cell_type": "code",
   "execution_count": 118,
   "id": "57b46caf-78e4-4986-b441-34d4cbbfc3e7",
   "metadata": {},
   "outputs": [
    {
     "name": "stdout",
     "output_type": "stream",
     "text": [
      "{'Wipro', 'Twitter', 'TCS', 'Infosys', 'Cognizant', 'Accenture'}\n"
     ]
    }
   ],
   "source": [
    "# Add 'Twitter' to it_companies\n",
    "\n",
    "it_companies = {\"Infosys\", \"TCS\", \"Wipro\", \"Accenture\", \"Cognizant\"}\n",
    "it_companies.add(\"Twitter\")\n",
    "\n",
    "print(it_companies)"
   ]
  },
  {
   "cell_type": "code",
   "execution_count": 119,
   "id": "f7da9c09-14d6-47c0-bad1-74aa8ed48e27",
   "metadata": {},
   "outputs": [
    {
     "name": "stdout",
     "output_type": "stream",
     "text": [
      "{'Wipro', 'Twitter', 'Amazon', 'TCS', 'Infosys', 'Cognizant', 'Meta', 'Accenture'}\n"
     ]
    }
   ],
   "source": [
    "# 3. Insert multiple IT companies at once to the set it_companies\n",
    "\n",
    "it_companies = {\"Infosys\", \"TCS\", \"Wipro\", \"Accenture\", \"Cognizant\"}\n",
    "new_companies = [\"Twitter\", \"Meta\", \"Amazon\"]\n",
    "\n",
    "it_companies.update(new_companies)\n",
    "\n",
    "print(it_companies)"
   ]
  },
  {
   "cell_type": "code",
   "execution_count": 120,
   "id": "d0be68e2-d06c-446d-bf54-0aef3b4eb01d",
   "metadata": {},
   "outputs": [
    {
     "name": "stdout",
     "output_type": "stream",
     "text": [
      "{'Wipro', 'Infosys', 'Cognizant', 'Accenture'}\n"
     ]
    }
   ],
   "source": [
    "# 4. Remove one of the companies from the set it_companies\n",
    "\n",
    "it_companies = {\"Infosys\", \"TCS\", \"Wipro\", \"Accenture\", \"Cognizant\"}\n",
    "\n",
    "company_to_remove = \"TCS\"\n",
    "it_companies.remove(company_to_remove)\n",
    "\n",
    "print(it_companies)"
   ]
  },
  {
   "cell_type": "code",
   "execution_count": 123,
   "id": "7414ff3d-d696-465a-a8e3-a839e16b03bd",
   "metadata": {},
   "outputs": [],
   "source": [
    "# 5. What is the difference between remove and discard\n",
    "\n",
    "my_set = {\"apple\", \"banana\", \"cherry\", \"grape\"}\n",
    "my_set.remove(\"apple\")  # This will successfully remove \"apple\"\n",
    "my_set.remove(\"grape\")  # This will raise a KeyError because \"grape\" is not in the set"
   ]
  },
  {
   "cell_type": "code",
   "execution_count": 124,
   "id": "6c02868e-8007-4a36-a624-c4206c23c186",
   "metadata": {},
   "outputs": [
    {
     "data": {
      "text/plain": [
       "{'banana', 'cherry'}"
      ]
     },
     "execution_count": 124,
     "metadata": {},
     "output_type": "execute_result"
    }
   ],
   "source": [
    "my_set"
   ]
  },
  {
   "cell_type": "code",
   "execution_count": 125,
   "id": "dcac5132-c4a3-45db-a55e-1609af615f1c",
   "metadata": {},
   "outputs": [],
   "source": [
    "my_set = {\"apple\", \"banana\", \"cherry\", \"grape\"}\n",
    "my_set.discard(\"apple\")  \n",
    "my_set.discard(\"grape\") "
   ]
  },
  {
   "cell_type": "code",
   "execution_count": 126,
   "id": "366cea1a-5ef8-4649-ba79-89f494c0e01b",
   "metadata": {},
   "outputs": [
    {
     "data": {
      "text/plain": [
       "{'banana', 'cherry'}"
      ]
     },
     "execution_count": 126,
     "metadata": {},
     "output_type": "execute_result"
    }
   ],
   "source": [
    "my_set"
   ]
  },
  {
   "cell_type": "code",
   "execution_count": 128,
   "id": "9a00cbf1-9858-4643-b45e-bff5a209a4bc",
   "metadata": {},
   "outputs": [
    {
     "name": "stdout",
     "output_type": "stream",
     "text": [
      "{'banana', 'orange', 'apple', 'cherry', 'mango'}\n"
     ]
    }
   ],
   "source": [
    "# 1. Join A and B\n",
    "A = {\"apple\", \"banana\", \"cherry\"}\n",
    "B = {\"mango\", \"orange\", \"cherry\"} \n",
    "\n",
    "C = A | B\n",
    "\n",
    "print(C)"
   ]
  },
  {
   "cell_type": "code",
   "execution_count": 130,
   "id": "de1f2d49-3909-4543-8c32-6b6757f2139c",
   "metadata": {},
   "outputs": [
    {
     "name": "stdout",
     "output_type": "stream",
     "text": [
      "Intersection of sets A and B: {'cherry'}\n"
     ]
    }
   ],
   "source": [
    "# 1. Find A intersection B\n",
    "\n",
    "A = {\"apple\", \"banana\", \"cherry\"}\n",
    "B = {\"mango\", \"orange\", \"cherry\"}\n",
    "\n",
    "intersection = A & B\n",
    "\n",
    "print(f\"Intersection of sets A and B: {intersection}\")"
   ]
  },
  {
   "cell_type": "code",
   "execution_count": 132,
   "id": "400d272f-60ec-4eb4-a5a1-ca9e6240af1c",
   "metadata": {},
   "outputs": [
    {
     "name": "stdout",
     "output_type": "stream",
     "text": [
      "Is set A a subset of set B? True\n"
     ]
    }
   ],
   "source": [
    "# 1. Is A subset of B\n",
    "\n",
    "A = {\"apple\", \"banana\"}\n",
    "B = {\"apple\", \"banana\", \"cherry\"}\n",
    "\n",
    "is_subset = all(element in B for element in A)\n",
    "\n",
    "print(f\"Is set A a subset of set B? {is_subset}\")"
   ]
  },
  {
   "cell_type": "code",
   "execution_count": 133,
   "id": "7273a1f3-05c0-40d5-9c0a-2ffeaaf21046",
   "metadata": {},
   "outputs": [
    {
     "name": "stdout",
     "output_type": "stream",
     "text": [
      "Are sets A and B disjoint? True\n"
     ]
    }
   ],
   "source": [
    "# 1. Are A and B disjoint sets\n",
    "\n",
    "A = {\"apple\", \"banana\"}\n",
    "B = {\"mango\", \"orange\", \"cherry\"}\n",
    "\n",
    "are_disjoint = not (A & B)\n",
    "\n",
    "print(f\"Are sets A and B disjoint? {are_disjoint}\")"
   ]
  },
  {
   "cell_type": "code",
   "execution_count": 135,
   "id": "5c70e97a-bb77-43b7-a9ba-162fa2199fbd",
   "metadata": {},
   "outputs": [
    {
     "name": "stdout",
     "output_type": "stream",
     "text": [
      "Combined set (A | B): {'banana', 'orange', 'apple', 'cherry', 'mango'}\n",
      "Combined set (B | A): {'banana', 'orange', 'apple', 'cherry', 'mango'}\n"
     ]
    }
   ],
   "source": [
    "# 1. Join A with B and B with A\n",
    "\n",
    "A = {\"apple\", \"banana\", \"cherry\"}\n",
    "B = {\"mango\", \"orange\", \"cherry\"}\n",
    "\n",
    "combined_set_1 = A | B\n",
    "combined_set_2 = B | A\n",
    "\n",
    "print(f\"Combined set (A | B): {combined_set_1}\")\n",
    "print(f\"Combined set (B | A): {combined_set_2}\")"
   ]
  },
  {
   "cell_type": "code",
   "execution_count": 137,
   "id": "fea3fcb0-cd28-4d94-a78d-222d69ca7bbe",
   "metadata": {},
   "outputs": [
    {
     "name": "stdout",
     "output_type": "stream",
     "text": [
      "Symmetric difference of A and B: {'banana', 'apple', 'mango', 'orange'}\n"
     ]
    }
   ],
   "source": [
    "# 1. What is the symmetric difference between A and B\n",
    "\n",
    "A = {\"apple\", \"banana\", \"cherry\"}\n",
    "B = {\"mango\", \"orange\", \"cherry\"}\n",
    "\n",
    "symmetric_difference = A ^ B\n",
    "\n",
    "print(f\"Symmetric difference of A and B: {symmetric_difference}\")"
   ]
  },
  {
   "cell_type": "code",
   "execution_count": 138,
   "id": "ccba55b0-3028-4fae-8179-71fb42c548a9",
   "metadata": {},
   "outputs": [],
   "source": [
    "# 1. Delete the sets completely\n",
    "\n",
    "A = {\"apple\", \"banana\", \"cherry\"}\n",
    "B = {\"mango\", \"orange\", \"cherry\"}\n",
    "\n",
    "del A\n",
    "del B\n"
   ]
  },
  {
   "cell_type": "code",
   "execution_count": 140,
   "id": "d984049b-b93a-4567-801b-6b06b4fabaf5",
   "metadata": {},
   "outputs": [
    {
     "name": "stdout",
     "output_type": "stream",
     "text": [
      "Is the list bigger? True\n"
     ]
    }
   ],
   "source": [
    "# 1. Convert the ages to a set and compare the length of the list and the set, which one is bigger?\n",
    "\n",
    "ages = [25, 30, 22, 25, 30, 28]\n",
    "\n",
    "unique_ages = set(ages)\n",
    "list_length = len(ages)\n",
    "\n",
    "set_length = len(unique_ages)\n",
    "is_list_bigger = list_length > set_length\n",
    "\n",
    "print(f\"Is the list bigger? {is_list_bigger}\")"
   ]
  },
  {
   "cell_type": "code",
   "execution_count": 141,
   "id": "f26e045a-b9fa-4585-969e-ccf979741a45",
   "metadata": {},
   "outputs": [
    {
     "name": "stdout",
     "output_type": "stream",
     "text": [
      "There are 10 unique words in the sentence.\n"
     ]
    }
   ],
   "source": [
    "# 2. _I am a teacher and I love to inspire and teach people._ How many unique words have been used in the sentence? Use the split methods and set to get the unique words.\n",
    "\n",
    "sentence = \"I am a teacher and I love to inspire and teach people.\"\n",
    "\n",
    "words = sentence.split()\n",
    "\n",
    "unique_words = set(words)\n",
    "number_of_unique_words = len(unique_words)\n",
    "\n",
    "print(f\"There are {number_of_unique_words} unique words in the sentence.\")"
   ]
  },
  {
   "cell_type": "code",
   "execution_count": null,
   "id": "3ea64258-39b1-421c-9087-3c5e3a880f35",
   "metadata": {},
   "outputs": [],
   "source": []
  },
  {
   "cell_type": "markdown",
   "id": "722f0680-010d-43f1-bd9e-ed7f6453cedf",
   "metadata": {},
   "source": [
    "Dictionary"
   ]
  },
  {
   "cell_type": "code",
   "execution_count": 142,
   "id": "e764895e-c6c3-481a-800f-477cb569c441",
   "metadata": {},
   "outputs": [
    {
     "name": "stdout",
     "output_type": "stream",
     "text": [
      "{}\n"
     ]
    }
   ],
   "source": [
    "# Create  an empty dictionary called dog\n",
    "\n",
    "dog = {}\n",
    "print(dog)"
   ]
  },
  {
   "cell_type": "code",
   "execution_count": 143,
   "id": "b999c054-229e-45d2-86c7-ca6b852f2b33",
   "metadata": {},
   "outputs": [
    {
     "data": {
      "text/plain": [
       "dict"
      ]
     },
     "execution_count": 143,
     "metadata": {},
     "output_type": "execute_result"
    }
   ],
   "source": [
    "type(dog)"
   ]
  },
  {
   "cell_type": "code",
   "execution_count": 144,
   "id": "91b3e2d6-0bc9-4bcb-bbd3-e9023bd653c6",
   "metadata": {},
   "outputs": [
    {
     "name": "stdout",
     "output_type": "stream",
     "text": [
      "{'name': 'Spot', 'color': 'brown', 'breed': 'Labrador Retriever', 'legs': 4, 'age': 5}\n"
     ]
    }
   ],
   "source": [
    "# Add name, color, breed, legs, age to the dog dictionary\n",
    "\n",
    "dog = {}\n",
    "dog[\"name\"] = \"Spot\"\n",
    "dog[\"color\"] = \"brown\"\n",
    "dog[\"breed\"] = \"Labrador Retriever\"\n",
    "dog[\"legs\"] = 4\n",
    "dog[\"age\"] = 5\n",
    "\n",
    "print(dog)"
   ]
  },
  {
   "cell_type": "code",
   "execution_count": 145,
   "id": "44fd50d5-9d73-4cbc-94a2-5c8c1ec45c5f",
   "metadata": {},
   "outputs": [
    {
     "name": "stdout",
     "output_type": "stream",
     "text": [
      "{'first_name': 'Parag', 'last_name': 'Dorle', 'gender': 'Male', 'age': 25, 'marital_status': 'Single', 'skills': ['Programming', 'Communication', 'Problem-solving'], 'country': 'India', 'city': 'Wardha'}\n"
     ]
    }
   ],
   "source": [
    "# Create a student dictionary and add first_name, last_name, gender, age, marital status, skills, country, city and address as keys for the dictionary\n",
    "\n",
    "student = {\n",
    "  \"first_name\": \"Parag\",\n",
    "  \"last_name\": \"Dorle\",\n",
    "  \"gender\": \"Male\",\n",
    "  \"age\": 25,\n",
    "  \"marital_status\": \"Single\",\n",
    "  \"skills\": [\"Programming\", \"Communication\", \"Problem-solving\"],\n",
    "  \"country\": \"India\",\n",
    "  \"city\": \"Wardha\",\n",
    "}\n",
    "print(student)"
   ]
  },
  {
   "cell_type": "code",
   "execution_count": 146,
   "id": "987200c8-e478-45ed-93cd-0a8f2890beca",
   "metadata": {},
   "outputs": [
    {
     "data": {
      "text/plain": [
       "8"
      ]
     },
     "execution_count": 146,
     "metadata": {},
     "output_type": "execute_result"
    }
   ],
   "source": [
    "# Get the length of the student dictionary\n",
    "\n",
    "len(student)"
   ]
  },
  {
   "cell_type": "code",
   "execution_count": 147,
   "id": "cf443cd2-0172-44a3-8f24-c3a3b245d986",
   "metadata": {},
   "outputs": [
    {
     "name": "stdout",
     "output_type": "stream",
     "text": [
      "<class 'list'>\n"
     ]
    }
   ],
   "source": [
    "# Get the value of skills and check the data type, it should be a list\n",
    "\n",
    "student = {\n",
    "  \"first_name\": \"John\",\n",
    "  \"last_name\": \"Doe\",\n",
    "  \"gender\": \"Male\",\n",
    "  \"age\": 25,\n",
    "  \"marital_status\": \"Single\",\n",
    "  \"skills\": [\"Programming\", \"Communication\", \"Problem-solving\"],\n",
    "  \"country\": \"USA\",\n",
    "  \"city\": \"New York\",\n",
    "  \"address\": \"123 Main Street\"\n",
    "}\n",
    "\n",
    "skills = student[\"skills\"]\n",
    "print(type(skills))\n"
   ]
  },
  {
   "cell_type": "code",
   "execution_count": 148,
   "id": "fa55125a-d37a-4fad-9656-18463893abd1",
   "metadata": {},
   "outputs": [
    {
     "name": "stdout",
     "output_type": "stream",
     "text": [
      "{'first_name': 'John', 'last_name': 'Doe', 'gender': 'Male', 'age': 25, 'marital_status': 'Single', 'skills': ['Programming', 'Communication', 'Problem-solving', 'Teamwork', 'Adaptability', 'Teamwork', 'Adaptability'], 'country': 'USA', 'city': 'New York', 'address': '123 Main Street'}\n"
     ]
    }
   ],
   "source": [
    "# Modify the skills values by adding one or two skills\n",
    "\n",
    "student = {\n",
    "  \"first_name\": \"John\",\n",
    "  \"last_name\": \"Doe\",\n",
    "  \"gender\": \"Male\",\n",
    "  \"age\": 25,\n",
    "  \"marital_status\": \"Single\",\n",
    "  \"skills\": [\"Programming\", \"Communication\", \"Problem-solving\"],\n",
    "  \"country\": \"USA\",\n",
    "  \"city\": \"New York\",\n",
    "  \"address\": \"123 Main Street\"\n",
    "}\n",
    "\n",
    "# Approach 1: Extend the existing list\n",
    "student[\"skills\"].extend([\"Teamwork\", \"Adaptability\"])\n",
    "\n",
    "# Approach 2: Update the entire skills key with a new list\n",
    "student[\"skills\"] = student[\"skills\"] + [\"Teamwork\", \"Adaptability\"]\n",
    "\n",
    "print(student)"
   ]
  },
  {
   "cell_type": "code",
   "execution_count": 149,
   "id": "4344140a-f1ed-4d19-a643-17c0f846af87",
   "metadata": {},
   "outputs": [
    {
     "ename": "TypeError",
     "evalue": "'list' object is not callable",
     "output_type": "error",
     "traceback": [
      "\u001b[1;31m---------------------------------------------------------------------------\u001b[0m",
      "\u001b[1;31mTypeError\u001b[0m                                 Traceback (most recent call last)",
      "Cell \u001b[1;32mIn[149], line 4\u001b[0m\n\u001b[0;32m      1\u001b[0m \u001b[38;5;66;03m# Get the dictionary keys as a list\u001b[39;00m\n\u001b[0;32m      3\u001b[0m my_dict \u001b[38;5;241m=\u001b[39m {\u001b[38;5;124m\"\u001b[39m\u001b[38;5;124mname\u001b[39m\u001b[38;5;124m\"\u001b[39m: \u001b[38;5;124m\"\u001b[39m\u001b[38;5;124mPaarag\u001b[39m\u001b[38;5;124m\"\u001b[39m, \u001b[38;5;124m\"\u001b[39m\u001b[38;5;124mage\u001b[39m\u001b[38;5;124m\"\u001b[39m: \u001b[38;5;241m25\u001b[39m, \u001b[38;5;124m\"\u001b[39m\u001b[38;5;124mcity\u001b[39m\u001b[38;5;124m\"\u001b[39m: \u001b[38;5;124m\"\u001b[39m\u001b[38;5;124mIndia\u001b[39m\u001b[38;5;124m\"\u001b[39m}\n\u001b[1;32m----> 4\u001b[0m keys_list \u001b[38;5;241m=\u001b[39m \u001b[38;5;28mlist\u001b[39m(my_dict\u001b[38;5;241m.\u001b[39mkeys())\n\u001b[0;32m      5\u001b[0m \u001b[38;5;28mprint\u001b[39m(keys_list)\n",
      "\u001b[1;31mTypeError\u001b[0m: 'list' object is not callable"
     ]
    }
   ],
   "source": [
    "# Get the dictionary keys as a list\n",
    "\n",
    "my_dict = {\"name\": \"Paarag\", \"age\": 25, \"city\": \"India\"}\n",
    "keys_list = list(my_dict.keys())\n",
    "print(keys_list)  # Output: ['name', 'age', 'city']"
   ]
  },
  {
   "cell_type": "code",
   "execution_count": 152,
   "id": "2452aee7-2831-4041-9d09-000c5552aef5",
   "metadata": {},
   "outputs": [
    {
     "ename": "TypeError",
     "evalue": "'list' object is not callable",
     "output_type": "error",
     "traceback": [
      "\u001b[1;31m---------------------------------------------------------------------------\u001b[0m",
      "\u001b[1;31mTypeError\u001b[0m                                 Traceback (most recent call last)",
      "Cell \u001b[1;32mIn[152], line 4\u001b[0m\n\u001b[0;32m      1\u001b[0m \u001b[38;5;66;03m# Get the dictionary values as a list\u001b[39;00m\n\u001b[0;32m      3\u001b[0m my_dict \u001b[38;5;241m=\u001b[39m {\u001b[38;5;124m\"\u001b[39m\u001b[38;5;124mname\u001b[39m\u001b[38;5;124m\"\u001b[39m: \u001b[38;5;124m\"\u001b[39m\u001b[38;5;124mParag\u001b[39m\u001b[38;5;124m\"\u001b[39m, \u001b[38;5;124m\"\u001b[39m\u001b[38;5;124mage\u001b[39m\u001b[38;5;124m\"\u001b[39m: \u001b[38;5;241m25\u001b[39m, \u001b[38;5;124m\"\u001b[39m\u001b[38;5;124mcity\u001b[39m\u001b[38;5;124m\"\u001b[39m: \u001b[38;5;124m\"\u001b[39m\u001b[38;5;124mIndia\u001b[39m\u001b[38;5;124m\"\u001b[39m}\n\u001b[1;32m----> 4\u001b[0m values_list \u001b[38;5;241m=\u001b[39m \u001b[38;5;28mlist\u001b[39m(my_dict\u001b[38;5;241m.\u001b[39mvalues())\n\u001b[0;32m      5\u001b[0m \u001b[38;5;28mprint\u001b[39m(values_list)\n",
      "\u001b[1;31mTypeError\u001b[0m: 'list' object is not callable"
     ]
    }
   ],
   "source": [
    "# Get the dictionary values as a list\n",
    "\n",
    "my_dict = {\"name\": \"Parag\", \"age\": 25, \"city\": \"India\"}\n",
    "values_list = list(my_dict.values())\n",
    "print(values_list)  # Output: ['Alice', 30, 'New York']"
   ]
  },
  {
   "cell_type": "code",
   "execution_count": 153,
   "id": "9ba13b1d-d8c1-42b6-bdd5-579ea354d24d",
   "metadata": {},
   "outputs": [
    {
     "ename": "TypeError",
     "evalue": "'list' object is not callable",
     "output_type": "error",
     "traceback": [
      "\u001b[1;31m---------------------------------------------------------------------------\u001b[0m",
      "\u001b[1;31mTypeError\u001b[0m                                 Traceback (most recent call last)",
      "Cell \u001b[1;32mIn[153], line 6\u001b[0m\n\u001b[0;32m      3\u001b[0m my_dict \u001b[38;5;241m=\u001b[39m {\u001b[38;5;124m\"\u001b[39m\u001b[38;5;124mname\u001b[39m\u001b[38;5;124m\"\u001b[39m: \u001b[38;5;124m\"\u001b[39m\u001b[38;5;124mParag\u001b[39m\u001b[38;5;124m\"\u001b[39m, \u001b[38;5;124m\"\u001b[39m\u001b[38;5;124mage\u001b[39m\u001b[38;5;124m\"\u001b[39m: \u001b[38;5;241m25\u001b[39m, \u001b[38;5;124m\"\u001b[39m\u001b[38;5;124mcity\u001b[39m\u001b[38;5;124m\"\u001b[39m: \u001b[38;5;124m\"\u001b[39m\u001b[38;5;124mWardha\u001b[39m\u001b[38;5;124m\"\u001b[39m}\n\u001b[0;32m      5\u001b[0m \u001b[38;5;66;03m# Using dict.items() method\u001b[39;00m\n\u001b[1;32m----> 6\u001b[0m list_of_tuples \u001b[38;5;241m=\u001b[39m \u001b[38;5;28mlist\u001b[39m(my_dict\u001b[38;5;241m.\u001b[39mitems())\n\u001b[0;32m      7\u001b[0m \u001b[38;5;28mprint\u001b[39m(list_of_tuples)\n",
      "\u001b[1;31mTypeError\u001b[0m: 'list' object is not callable"
     ]
    }
   ],
   "source": [
    "# Change the dictionary to a list of tuples using _items()_ method\n",
    "\n",
    "my_dict = {\"name\": \"Parag\", \"age\": 25, \"city\": \"Wardha\"}\n",
    "\n",
    "# Using dict.items() method\n",
    "list_of_tuples = list(my_dict.items())\n",
    "print(list_of_tuples)  # Output: [('name', 'Alice'), ('age', 30), ('city', 'New York')]"
   ]
  },
  {
   "cell_type": "code",
   "execution_count": 154,
   "id": "e6d5715a-9c02-4488-82f1-f331d44812ff",
   "metadata": {},
   "outputs": [
    {
     "name": "stdout",
     "output_type": "stream",
     "text": [
      "{'name': 'Parag', 'city': 'Wardha'}\n"
     ]
    }
   ],
   "source": [
    "# Delete one of the items in the dictionary\n",
    "\n",
    "my_dict = {\"name\": \"Parag\", \"age\": 25, \"city\": \"Wardha\"}\n",
    "\n",
    "# Delete the item with key 'age'\n",
    "del my_dict[\"age\"]\n",
    "print(my_dict)  # Output: {'name': 'Alice', 'city': 'New York'}"
   ]
  },
  {
   "cell_type": "code",
   "execution_count": 155,
   "id": "d9f2025a-775d-4de2-beae-2a7a422b90ee",
   "metadata": {},
   "outputs": [
    {
     "name": "stdout",
     "output_type": "stream",
     "text": [
      "[{'name': 'Parag', 'age': 25}, {'name': 'Charlie', 'age': 26}]\n"
     ]
    }
   ],
   "source": [
    "# Delete one of the dictionaries\n",
    "\n",
    "list_of_dicts = [{\"name\": \"Parag\", \"age\": 25}, {\"name\": \"Smith\", \"age\": 28}, {\"name\": \"Charlie\", \"age\": 26}]\n",
    "\n",
    "# Delete the second dictionary (index 1)\n",
    "del list_of_dicts[1]\n",
    "\n",
    "print(list_of_dicts)  # Output: [{'name': 'Alice', 'age': 30}, {'name': 'Charlie', 'age': 35}]"
   ]
  },
  {
   "cell_type": "code",
   "execution_count": null,
   "id": "f5112882-ffc6-4ac2-8b6e-6a0a0c84dac4",
   "metadata": {},
   "outputs": [],
   "source": []
  },
  {
   "cell_type": "markdown",
   "id": "9bcad59d-4df3-4a6f-94b7-09793dd70ec2",
   "metadata": {},
   "source": [
    "# Condition"
   ]
  },
  {
   "cell_type": "code",
   "execution_count": 1,
   "id": "abf1f61d-3ccf-46c0-9094-c4373ffb13dc",
   "metadata": {},
   "outputs": [
    {
     "name": "stdout",
     "output_type": "stream",
     "text": [
      "Enter your Age 17\n"
     ]
    },
    {
     "name": "stdout",
     "output_type": "stream",
     "text": [
      "You are not old enough to drive yet. You need to wait 1 year(s).\n"
     ]
    }
   ],
   "source": [
    "\"\"\" 1.  Get user input using input(“Enter your age: ”). If user is 18 or older, give feedback: You are old enough to drive. If below 18 give feedback to wait for the missing amount of years. Output:\n",
    "    ```sh\n",
    "    Enter your age: 30\n",
    "    You are old enough to learn to drive.\n",
    "    Output:\n",
    "    Enter your age: 15\n",
    "    You need 3 more years to learn to drive. \"\"\"\n",
    "\n",
    "age = int(input(\"Enter your Age\"))\n",
    "\n",
    "if age >= 18:\n",
    "    print(\"You are old enough to learn to drive\")\n",
    "else:\n",
    "    waiting = 18 - age\n",
    "    print(f\"You are not old enough to drive yet. You need to wait {waiting} year(s).\")"
   ]
  },
  {
   "cell_type": "code",
   "execution_count": 21,
   "id": "4889dd3c-e93d-438a-8936-4b7913559c40",
   "metadata": {},
   "outputs": [
    {
     "name": "stdout",
     "output_type": "stream",
     "text": [
      "Enter your age:  31\n",
      "Enter my age:  21\n"
     ]
    },
    {
     "name": "stdout",
     "output_type": "stream",
     "text": [
      "You are 10 years older than me.\n"
     ]
    }
   ],
   "source": [
    "\"\"\" 2.  Compare the values of my_age and your_age using if … else. Who is older (me or you)? Use input(“Enter your age: ”) to get the age as input. You can use a nested condition to print 'year' for 1 year difference in age, 'years' for bigger differences, and a custom text if my_age = your_age. Output:\n",
    "    ```sh\n",
    "    Enter your age: 30\n",
    "    You are 5 years older than me. \"\"\"\n",
    "\n",
    "your_age = int(input(\"Enter your age: \"))\n",
    "my_age = int(input(\"Enter my age: \"))\n",
    "\n",
    "if your_age > my_age:\n",
    "    print(f\"You are {your_age - my_age} years older than me.\")\n",
    "elif your_age < my_age:\n",
    "    print(f\"I am {my_age - your_age} years older than you.\")\n",
    "else:\n",
    "  print(\"We are the same age.\")"
   ]
  },
  {
   "cell_type": "code",
   "execution_count": 23,
   "id": "89339584-517f-4791-9f1d-97fa2f29b0d1",
   "metadata": {},
   "outputs": [
    {
     "name": "stdout",
     "output_type": "stream",
     "text": [
      "Enter number one:  2\n",
      "Enter number two:  4\n"
     ]
    },
    {
     "name": "stdout",
     "output_type": "stream",
     "text": [
      "2 is smaller than 4\n"
     ]
    }
   ],
   "source": [
    "\"\"\" 3.  Get two numbers from the user using input prompt. If a is greater than b return a is greater than b, if a is less b return a is smaller than b, else a is equal to b. Output:\n",
    "\n",
    "```sh\n",
    "Enter number one: 4\n",
    "Enter number two: 3\n",
    "4 is greater than 3 \"\"\"\n",
    "\n",
    "num1 = int(input(\"Enter number one: \"))\n",
    "num2 = int(input(\"Enter number two: \"))\n",
    "\n",
    "if num1 > num2:\n",
    "  print(f\"{num1} is greater than {num2}\")\n",
    "elif num1 < num2:\n",
    "  print(f\"{num1} is smaller than {num2}\")\n",
    "else:\n",
    "  print(f\"{num1} is equal to {num2}\")"
   ]
  },
  {
   "cell_type": "code",
   "execution_count": 25,
   "id": "7bc743b5-29b7-4555-8b18-9066da354720",
   "metadata": {},
   "outputs": [
    {
     "name": "stdout",
     "output_type": "stream",
     "text": [
      "Enter student's score (0-100):  87\n"
     ]
    },
    {
     "name": "stdout",
     "output_type": "stream",
     "text": [
      "Score: 87, Grade: A\n"
     ]
    }
   ],
   "source": [
    "\"\"\" Write a code which gives grade to students according to theirs scores:\n",
    "   \n",
    "        80-100, A\n",
    "        70-89, B\n",
    "        60-69, C\n",
    "        50-59, D\n",
    "        0-49, F \"\"\"\n",
    "\n",
    "score = int(input(\"Enter student's score (0-100): \"))\n",
    "\n",
    "score = int(input(\"Enter the Student's Score (0-100)\"))\n",
    "if score >= 80:\n",
    "    print(\"Your Grade is : A\")\n",
    "elif score >= 70:\n",
    "    print(\"Your Grade is : B\")\n",
    "elif score >= 60:\n",
    "    print(\"Your Grade is : C\")\n",
    "elif score >= 50:\n",
    "    print(\"Your Grade is : D\")\n",
    "elif score >= 35:\n",
    "    print(\"Your Grade is : F\")\n",
    "else:\n",
    "    print(\"Thank you\")"
   ]
  },
  {
   "cell_type": "code",
   "execution_count": 31,
   "id": "3d5b8a0c-9f66-4499-885f-f2b5e3b23a63",
   "metadata": {},
   "outputs": [
    {
     "name": "stdout",
     "output_type": "stream",
     "text": [
      "Enter the month:  august\n"
     ]
    },
    {
     "name": "stdout",
     "output_type": "stream",
     "text": [
      "The season for august is Summer.\n"
     ]
    }
   ],
   "source": [
    "\"\"\" Check if the season is Autumn, Winter, Spring or Summer. If the user input is:\n",
    "    September, October or November, the season is Autumn.\n",
    "    December, January or February, the season is Winter.\n",
    "    March, April or May, the season is Spring\n",
    "    June, July or August, the season is Summer \"\"\"\n",
    "\n",
    "month = input(\"Enter the month: \").lower()  # Convert input to lowercase\n",
    "\n",
    "if month in (\"september\", \"october\", \"november\"):\n",
    "  season = \"Autumn\"\n",
    "elif month in (\"december\", \"january\", \"february\"):\n",
    "  season = \"Winter\"\n",
    "elif month in (\"march\", \"april\", \"may\"):\n",
    "  season = \"Spring\"\n",
    "elif month in (\"june\", \"july\", \"august\"):\n",
    "  season = \"Summer\"\n",
    "else:\n",
    "  season = \"Invalid month\"\n",
    "\n",
    "if season != \"Invalid month\":\n",
    "  print(f\"The season for {month} is {season}.\")\n",
    "else:\n",
    "  print(\"Please enter a valid month name.\")"
   ]
  },
  {
   "cell_type": "code",
   "execution_count": 33,
   "id": "8185ce1e-87a3-42ae-a794-2e636957566a",
   "metadata": {},
   "outputs": [
    {
     "name": "stdout",
     "output_type": "stream",
     "text": [
      "Enter a fruit name:  chiku\n"
     ]
    },
    {
     "name": "stdout",
     "output_type": "stream",
     "text": [
      "The modified fruit list is: ['banana', 'orange', 'mango', 'lemon', 'chiku']\n"
     ]
    }
   ],
   "source": [
    "\"\"\" 2.  The following list contains some fruits:\n",
    "    \n",
    "    fruits = ['banana', 'orange', 'mango', 'lemon']\n",
    "    ```\n",
    "    If a fruit doesn't exist in the list add the fruit to the list and print the modified list. \n",
    "    If the fruit exists print('That fruit already exist in the list') \"\"\"\n",
    "\n",
    "fruits = ['banana', 'orange', 'mango', 'lemon']\n",
    "new_fruit = input(\"Enter a fruit name: \").lower()  # Convert input to lowercase\n",
    "\n",
    "if new_fruit not in fruits:\n",
    "  fruits.append(new_fruit)\n",
    "  print(f\"The modified fruit list is: {fruits}\")\n",
    "else:\n",
    "  print(f\"That fruit ({new_fruit}) already exists in the list.\")"
   ]
  },
  {
   "cell_type": "code",
   "execution_count": 34,
   "id": "191c7209-ec5a-4d22-beb0-afbb25c4a054",
   "metadata": {},
   "outputs": [
    {
     "name": "stdout",
     "output_type": "stream",
     "text": [
      "Middle skill: Node\n",
      "The person has the Python skill.\n",
      "He is a full-stack developer\n",
      "\n",
      "Asabeneh Yetayeh is married and lives in Finland at Space street with zipcode 02210.\n"
     ]
    }
   ],
   "source": [
    "\"\"\" Here we have a person dictionary. Feel free to modify it!\n",
    "   \n",
    "person={\n",
    "    'first_name': 'Asabeneh',\n",
    "    'last_name': 'Yetayeh',\n",
    "    'age': 250,\n",
    "    'country': 'Finland',\n",
    "    'is_marred': True,\n",
    "    'skills': ['JavaScript', 'React', 'Node', 'MongoDB', 'Python'],\n",
    "    'address': {\n",
    "        'street': 'Space street',\n",
    "        'zipcode': '02210'\n",
    "    }\n",
    "    }\n",
    "\n",
    "     * Check if the person dictionary has skills key, if so print out the middle skill in the skills list.\n",
    "     * Check if the person dictionary has skills key, if so check if the person has 'Python' skill and print out the result.\n",
    "     * If a person skills has only JavaScript and React, print('He is a front end developer'), if the person skills has Node, Python, MongoDB, print('He is a backend developer'), if the person skills has React, Node and MongoDB, Print('He is a fullstack developer'), else print('unknown title') - for more accurate results more conditions can be nested!\n",
    "     * If the person is married and if he lives in Finland, print the information in the following format: \"\"\"\n",
    "\n",
    "person = {\n",
    "    'first_name': 'Asabeneh',\n",
    "    'last_name': 'Yetayeh',\n",
    "    'age': 250,\n",
    "    'country': 'Finland',\n",
    "    'is_married': True,\n",
    "    'skills': ['JavaScript', 'React', 'Node', 'MongoDB', 'Python'],\n",
    "    'address': {\n",
    "        'street': 'Space street',\n",
    "        'zipcode': '02210'\n",
    "    }\n",
    "}\n",
    "\n",
    "# Check if the person has skills and print the middle skill\n",
    "if \"skills\" in person:\n",
    "  num_skills = len(person[\"skills\"])\n",
    "  if num_skills > 1:\n",
    "    middle_index = int((num_skills - 1) / 2)\n",
    "    print(f\"Middle skill: {person['skills'][middle_index]}\")\n",
    "\n",
    "# Check if the person has the Python skill\n",
    "if \"skills\" in person and \"Python\" in person[\"skills\"]:\n",
    "  print(\"The person has the Python skill.\")\n",
    "\n",
    "# Check developer type based on skills\n",
    "skills = person.get(\"skills\", [])  # Get skills list or empty list if not present\n",
    "if skills == [\"JavaScript\", \"React\"]:\n",
    "  print(\"He is a front-end developer\")\n",
    "elif \"Node\" in skills and (\"Python\" in skills or \"MongoDB\" in skills):\n",
    "  print(\"He is a full-stack developer\")\n",
    "elif \"Node\" in skills:\n",
    "  print(\"He is a back-end developer\")\n",
    "else:\n",
    "  print(\"Unknown title\")\n",
    "\n",
    "# Print married person's info if in Finland\n",
    "if person[\"is_married\"] and person[\"country\"] == \"Finland\":\n",
    "  print(f\"\\n{person['first_name']} {person['last_name']} is married and lives in Finland at {person['address']['street']} with zipcode {person['address']['zipcode']}.\")"
   ]
  },
  {
   "cell_type": "markdown",
   "id": "d7b8682b-6317-4226-995e-eef0dfac5068",
   "metadata": {},
   "source": [
    "# Loop"
   ]
  },
  {
   "cell_type": "code",
   "execution_count": null,
   "id": "b466c070-f236-4a72-bb35-8a688b8a1bbe",
   "metadata": {},
   "outputs": [],
   "source": [
    "# Write a program using while loop that prints square and cube of numbers between 1 to 10\n",
    "\n",
    "num = 1\n",
    "while num <= 10:\n",
    "  print(\"Number:\", num)\n",
    "  print(\"Square:\", num * num)\n",
    "  print(\"Cube:\", num * num * num)\n",
    "  num = num+1"
   ]
  },
  {
   "cell_type": "code",
   "execution_count": null,
   "id": "3deabdff-e6b6-4b4d-ac42-e8fb7c605e66",
   "metadata": {},
   "outputs": [],
   "source": [
    "# Write a program using while loop that prints square and cube of numbers between 1 to 10\n",
    "\n",
    "num = 1\n",
    "while num <= 10:\n",
    "  print(\"Number:\", num)\n",
    "  print(\"Square:\", num * num)\n",
    "  print(\"Cube:\", num * num * num)\n",
    "  num = num+1"
   ]
  },
  {
   "cell_type": "code",
   "execution_count": 37,
   "id": "48c1d84a-31a8-410b-b71b-f3e7bbe13c28",
   "metadata": {},
   "outputs": [
    {
     "name": "stdout",
     "output_type": "stream",
     "text": [
      "100\n",
      "96\n",
      "92\n",
      "88\n",
      "84\n",
      "80\n",
      "76\n",
      "72\n",
      "68\n",
      "64\n",
      "60\n",
      "56\n",
      "52\n",
      "48\n",
      "44\n",
      "40\n",
      "36\n",
      "32\n",
      "28\n",
      "24\n",
      "20\n",
      "16\n",
      "12\n",
      "8\n",
      "4\n"
     ]
    }
   ],
   "source": [
    "# Write a program that uses for loop to print numbers 100, 96, 92, 88 ..., 4. \n",
    "\n",
    "for num in range(100,3,-4):\n",
    "    print(num)"
   ]
  },
  {
   "cell_type": "code",
   "execution_count": 38,
   "id": "217c1218-cf04-4069-989d-7d7fc353b6f5",
   "metadata": {},
   "outputs": [
    {
     "name": "stdout",
     "output_type": "stream",
     "text": [
      "Enter the height of the triangle:  12\n"
     ]
    },
    {
     "name": "stdout",
     "output_type": "stream",
     "text": [
      "           @\n",
      "          @@\n",
      "         @@@\n",
      "        @@@@\n",
      "       @@@@@\n",
      "      @@@@@@\n",
      "     @@@@@@@\n",
      "    @@@@@@@@\n",
      "   @@@@@@@@@\n",
      "  @@@@@@@@@@\n",
      " @@@@@@@@@@@\n",
      "@@@@@@@@@@@@\n"
     ]
    }
   ],
   "source": [
    "\"\"\" Use a for loop to print a triangle like the one below. Allow the user to specify how high the triangle should be. <br>\n",
    "@<br>\n",
    "@@<br>\n",
    "@@@<br>\n",
    "@@@@<br>\"\"\"\n",
    "\n",
    "rows = int(input(\"Enter the height of the triangle: \"))\n",
    "\n",
    "for i in range(1, rows + 1):\n",
    "  for j in range(rows - i):\n",
    "    print(\" \", end=\"\")\n",
    "\n",
    "  for j in range(i):\n",
    "    print(\"@\", end=\"\")\n",
    "\n",
    "  print()"
   ]
  },
  {
   "cell_type": "code",
   "execution_count": 40,
   "id": "64e8da91-042c-45e4-adf1-20a0027b876c",
   "metadata": {},
   "outputs": [
    {
     "name": "stdout",
     "output_type": "stream",
     "text": [
      "Enter your password:  parag\n"
     ]
    },
    {
     "name": "stdout",
     "output_type": "stream",
     "text": [
      "You are kicked off of the system.\n"
     ]
    },
    {
     "name": "stdout",
     "output_type": "stream",
     "text": [
      "Enter your password:  Parag\n"
     ]
    },
    {
     "name": "stdout",
     "output_type": "stream",
     "text": [
      "You are logged in to the system.\n"
     ]
    }
   ],
   "source": [
    "\"\"\" Write a program that asks the user to enter the password.\n",
    "If the user enters the right password, the program should tell them they are logged in to the system. \n",
    "Otherwise, the program should ask them to reenter the password. \n",
    "The user should get only five tries to enter the password, after which point the program should tell them that they are kicked off of the system.\"\"\"\n",
    "\n",
    "password = \"Parag\"\n",
    "count = 5\n",
    "\n",
    "while count > 0:\n",
    "    user_password = input(\"Enter your password: \")\n",
    "    if user_password == password:\n",
    "        print(\"You are logged in to the system.\")\n",
    "        break\n",
    "    else:\n",
    "        print(\"You are kicked off of the system.\")"
   ]
  },
  {
   "cell_type": "markdown",
   "id": "97c90b0c-66d9-4e16-9749-f2c0ff4ee118",
   "metadata": {},
   "source": [
    "# Function"
   ]
  },
  {
   "cell_type": "code",
   "execution_count": null,
   "id": "17917f4e-ca48-4a85-a5a6-16a48d8ff851",
   "metadata": {},
   "outputs": [
    {
     "name": "stdout",
     "output_type": "stream",
     "text": [
      "8\n"
     ]
    }
   ],
   "source": [
    "# Declare a function _add_two_numbers_. It takes two parameters and it returns a sum.\n",
    "\n",
    "def _add_two_numbers_(a, b):\n",
    "  \n",
    "  return a + b\n",
    "\n",
    "result = _add_two_numbers_(5, 3)\n",
    "print(result)"
   ]
  },
  {
   "cell_type": "code",
   "execution_count": 43,
   "id": "dddeca2d-20e5-4bd2-a9bd-c04156aa7519",
   "metadata": {},
   "outputs": [
    {
     "name": "stdout",
     "output_type": "stream",
     "text": [
      "78.5\n"
     ]
    }
   ],
   "source": [
    "# Area of a circle is calculated as follows: area = π x r x r. Write a function that calculates _area_of_circle_.\n",
    "\n",
    "def _area_of_circle_(radius):\n",
    "\n",
    "    pi = 3.14\n",
    "    return pi * radius * radius\n",
    "\n",
    "circle_area = _area_of_circle_(5)\n",
    "print(circle_area)"
   ]
  },
  {
   "cell_type": "code",
   "execution_count": 44,
   "id": "608cae65-bb61-4c75-88a1-f734eeb00638",
   "metadata": {},
   "outputs": [
    {
     "name": "stdout",
     "output_type": "stream",
     "text": [
      "None\n",
      "Arguments must all be numbers.\n"
     ]
    }
   ],
   "source": [
    "# Write a function called add_all_nums which takes arbitrary number of arguments and sums all the arguments. Check if all the list items are number types. If not do give a reasonable feedback.\n",
    "\n",
    "def add_all_nums(*args):\n",
    " if not all(isinstance(arg, (int, float)) for arg in args):\n",
    "    return \"Arguments must all be numbers.\"\n",
    "\n",
    "    return sum(args)\n",
    "\n",
    "result = add_all_nums(1, 2.5, 3)\n",
    "print(result)\n",
    "\n",
    "result = add_all_nums(1, \"hello\", 3)\n",
    "print(result)"
   ]
  },
  {
   "cell_type": "code",
   "execution_count": 45,
   "id": "75c2cfbb-4a64-4a9d-a559-b4459f2c41bb",
   "metadata": {},
   "outputs": [
    {
     "name": "stdout",
     "output_type": "stream",
     "text": [
      "47°C is equivalent to 116.60°F\n"
     ]
    }
   ],
   "source": [
    "# Temperature in °C can be converted to °F using this formula: °F = (°C x 9/5) + 32. Write a function which converts °C to °F, _convert_celsius_to-fahrenheit_.\n",
    "\n",
    "def _convert_celsius_to_fahrenheit_(celsius):\n",
    "\n",
    "  fahrenheit = (celsius * 9/5) + 32\n",
    "  return fahrenheit\n",
    "\n",
    "celsius_value = 47\n",
    "fahrenheit_value = _convert_celsius_to_fahrenheit_(celsius_value)\n",
    "print(f\"{celsius_value}°C is equivalent to {fahrenheit_value:.2f}°F\")"
   ]
  },
  {
   "cell_type": "code",
   "execution_count": 46,
   "id": "17d6f2af-a2d5-494c-85ea-eb142e7d05e3",
   "metadata": {},
   "outputs": [
    {
     "name": "stdout",
     "output_type": "stream",
     "text": [
      "Autumn\n",
      "Winter\n",
      "Spring\n",
      "Summer\n",
      "Undefined - invalid month\n"
     ]
    }
   ],
   "source": [
    "# 5. Write a function called check-season, it takes a month parameter and returns the season: Autumn, Winter, Spring or Summer.\n",
    "\n",
    "def check_season(month):\n",
    "    if month in ['September', 'October', 'November']:\n",
    "        return 'Autumn'\n",
    "    elif month in ['December', 'January', 'February']:\n",
    "        return 'Winter'\n",
    "    elif month in ['March', 'April', 'May']:\n",
    "        return 'Spring'\n",
    "    elif month in ['June', 'July', 'August']:\n",
    "        return 'Summer'\n",
    "    else:\n",
    "        return 'Undefined - invalid month'\n",
    "print(check_season('October'))  # Output: Autumn\n",
    "print(check_season('January'))  # Output: Winter\n",
    "print(check_season('May'))  # Output: Spring\n",
    "print(check_season('August'))  # Output: Summer\n",
    "print(check_season('Invalid'))  # Output: Undefined - invalid month"
   ]
  },
  {
   "cell_type": "code",
   "execution_count": 47,
   "id": "8ed61813-c3c5-450a-8cab-1f0d925f12ff",
   "metadata": {},
   "outputs": [
    {
     "name": "stdout",
     "output_type": "stream",
     "text": [
      "1.0\n",
      "Undefined - vertical line\n",
      "2.0\n"
     ]
    }
   ],
   "source": [
    "# Write a function called calculate_slope which return the slope of a linear equation\n",
    "\n",
    "def calculate_slope(x1, y1, x2, y2):\n",
    "\n",
    "    if x1 == x2:\n",
    "        return 'Undefined - vertical line'\n",
    "    else:\n",
    "        return (y2 - y1) / (x2 - x1)\n",
    "print(calculate_slope(1, 2, 3, 4))  # Output: 1.0\n",
    "print(calculate_slope(2, 3, 2, 4))  # Output: Undefined - vertical line\n",
    "print(calculate_slope(-1, -2, 1, 2))  # Output: 2.0"
   ]
  },
  {
   "cell_type": "code",
   "execution_count": 48,
   "id": "9c9c3744-1237-4bea-b9e5-116b2fda3c39",
   "metadata": {},
   "outputs": [
    {
     "name": "stdout",
     "output_type": "stream",
     "text": [
      "The roots of the equation 1x^2 + 5x + 6 = 0 are: (-2.0, -3.0)\n"
     ]
    }
   ],
   "source": [
    "# Quadratic equation is calculated as follows: ax² + bx + c = 0. Write a function which calculates solution set of a quadratic equation, _solve_quadratic_eqn_.\n",
    "\n",
    "def _solve_quadratic_eqn(a, b, c):\n",
    " \n",
    "  discriminant = b**2 - 4*a*c\n",
    "  if discriminant >= 0:\n",
    "    root1 = (-b + discriminant**0.5) / (2*a)\n",
    "    root2 = (-b - discriminant**0.5) / (2*a)\n",
    "    return root1, root2\n",
    "  else:\n",
    "    return ()\n",
    "\n",
    "a = 1\n",
    "b = 5\n",
    "c = 6\n",
    "roots = _solve_quadratic_eqn(a, b, c)\n",
    "print(f\"The roots of the equation {a}x^2 + {b}x + {c} = 0 are: {roots}\")"
   ]
  },
  {
   "cell_type": "code",
   "execution_count": 49,
   "id": "0ced837c-1331-43e9-a576-9edd7af6f4e6",
   "metadata": {},
   "outputs": [
    {
     "name": "stdout",
     "output_type": "stream",
     "text": [
      "apple\n",
      "banana\n",
      "10\n",
      "3.14\n"
     ]
    }
   ],
   "source": [
    "# Declare a function named print_list. It takes a list as a parameter and it prints out each element of the list.\n",
    "\n",
    "def print_list(my_list):\n",
    "\n",
    "  for element in my_list:\n",
    "    print(element)\n",
    "\n",
    "my_list = [\"apple\", \"banana\", 10, 3.14]\n",
    "print_list(my_list)"
   ]
  },
  {
   "cell_type": "code",
   "execution_count": 50,
   "id": "2ff7aac7-835a-49e5-aff3-fc38a1f2c809",
   "metadata": {},
   "outputs": [
    {
     "name": "stdout",
     "output_type": "stream",
     "text": [
      "[5, 4, 3, 2, 1]\n",
      "['C', 'B', 'A']\n"
     ]
    }
   ],
   "source": [
    "# Declare a function named reverse_list. It takes an array as a parameter and it returns the reverse of the array (use loops).\n",
    "\n",
    "\"\"\"py\n",
    "print(reverse_list([1, 2, 3, 4, 5]))\n",
    "# [5, 4, 3, 2, 1]\n",
    "print(reverse_list1([\"A\", \"B\", \"C\"]))\n",
    "# [\"C\", \"B\", \"A\"] \"\"\"\n",
    "\n",
    "def reverse_list(my_list):\n",
    " \n",
    "  reversed_list = []\n",
    "  for i in range(len(my_list) - 1, -1, -1):\n",
    "    reversed_list.append(my_list[i])\n",
    "  return reversed_list\n",
    "\n",
    "print(reverse_list([1, 2, 3, 4, 5]))  # Output: [5, 4, 3, 2, 1]\n",
    "print(reverse_list([\"A\", \"B\", \"C\"]))  # Output: [\"C\", \"B\", \"A\"]"
   ]
  },
  {
   "cell_type": "code",
   "execution_count": 51,
   "id": "a14816a0-fed2-4f3b-ab26-c2d694d72d9b",
   "metadata": {},
   "outputs": [
    {
     "name": "stdout",
     "output_type": "stream",
     "text": [
      "['Potato', 'Tomato', 'Mango', 'Milk']\n"
     ]
    }
   ],
   "source": [
    "# Declare a function named capitalize_list_items. It takes a list as a parameter and it returns a capitalized list of items\n",
    "\n",
    "def capitalize_list_items(my_list):\n",
    "\n",
    "  capitalized_list = []\n",
    "  for item in my_list:\n",
    "    capitalized_list.append(item.capitalize())\n",
    "  return capitalized_list\n",
    "\n",
    "food_staff = ['potato', 'tomato', 'mango', 'milk']\n",
    "capitalized_food_staff = capitalize_list_items(food_staff)\n",
    "print(capitalized_food_staff)  # Output: ['Potato', 'Tomato', 'Mango', 'Milk']"
   ]
  },
  {
   "cell_type": "code",
   "execution_count": 52,
   "id": "fa8fc1f5-9f52-4aa3-afaf-b772e90297c6",
   "metadata": {},
   "outputs": [
    {
     "name": "stdout",
     "output_type": "stream",
     "text": [
      "['Potato', 'Tomato', 'Mango', 'Milk', 'Meat']\n",
      "[2, 3, 7, 9, 5]\n"
     ]
    }
   ],
   "source": [
    "\"\"\" Declare a function named add_item. It takes a list and an item parameters. It returns a list with the item added at the end.\n",
    "\n",
    "```py\n",
    "food_staff = ['Potato', 'Tomato', 'Mango', 'Milk'];\n",
    "print(add_item(food_staff, 'Meat'))     # ['Potato', 'Tomato', 'Mango', 'Milk','Meat'];\n",
    "numbers = [2, 3, 7, 9];\n",
    "print(add_item(numbers, 5))      [2, 3, 7, 9, 5] \"\"\"\n",
    "\n",
    "def add_item(my_list, new_item):\n",
    " \n",
    "  new_list = my_list.copy()  # Create a copy to avoid modifying the original list\n",
    "  new_list.append(new_item)\n",
    "  return new_list\n",
    "\n",
    "food_staff = ['Potato', 'Tomato', 'Mango', 'Milk']\n",
    "print(add_item(food_staff, 'Meat'))  # Output: ['Potato', 'Tomato', 'Mango', 'Milk', 'Meat']\n",
    "numbers = [2, 3, 7, 9]\n",
    "print(add_item(numbers, 5))  # Output: [2, 3, 7, 9, 5]"
   ]
  },
  {
   "cell_type": "code",
   "execution_count": 55,
   "id": "65a121e3-4a8a-4917-b602-dd08239c5e49",
   "metadata": {},
   "outputs": [
    {
     "name": "stdout",
     "output_type": "stream",
     "text": [
      "['Potato', 'Tomato', 'Milk']\n",
      "[2, 7, 9]\n"
     ]
    }
   ],
   "source": [
    "\"\"\" Declare a function named remove_item. It takes a list and an item parameters. It returns a list with the item removed from it.\n",
    "\n",
    "```py\n",
    "food_staff = ['Potato', 'Tomato', 'Mango', 'Milk'];\n",
    "print(remove_item(food_staff, 'Mango'))  # ['Potato', 'Tomato', 'Milk'];\n",
    "numbers = [2, 3, 7, 9];\n",
    "print(remove_item(numbers, 3))  # [2, 7, 9] \"\"\"\n",
    "\n",
    "def remove_item(lst, item):\n",
    "    return [i for i in lst if i != item]\n",
    "\n",
    "food_staff = ['Potato', 'Tomato', 'Mango', 'Milk'];\n",
    "print(remove_item(food_staff, 'Mango'))  # ['Potato', 'Tomato', 'Milk'];\n",
    "\n",
    "numbers = [2, 3, 7, 9];\n",
    "print(remove_item(numbers, 3))  # [2, 7, 9]"
   ]
  },
  {
   "cell_type": "code",
   "execution_count": 57,
   "id": "5423fbe1-cd0a-4ec3-a44a-269a5fbb3f02",
   "metadata": {},
   "outputs": [
    {
     "name": "stdout",
     "output_type": "stream",
     "text": [
      "15\n",
      "55\n",
      "5050\n"
     ]
    }
   ],
   "source": [
    "\"\"\" Declare a function named sum_of_numbers. It takes a number parameter and it adds all the numbers in that range.\n",
    "\n",
    "```py\n",
    "print(sum_of_numbers(5))  # 15\n",
    "print(sum_all_numbers(10)) # 55\n",
    "print(sum_all_numbers(100)) # 5050 \"\"\"\n",
    "\n",
    "def sum_of_numbers(n):\n",
    "    return sum(range(n+1))\n",
    "\n",
    "print(sum_of_numbers(5))  \n",
    "print(sum_of_numbers(10))\n",
    "print(sum_of_numbers(100))"
   ]
  },
  {
   "cell_type": "code",
   "execution_count": 1,
   "id": "9837865c-d1ca-4efd-ba63-1cacea47ea87",
   "metadata": {},
   "outputs": [
    {
     "name": "stdout",
     "output_type": "stream",
     "text": [
      "9\n",
      "25\n",
      "2500\n"
     ]
    }
   ],
   "source": [
    "\"\"\" Declare a function named sum_of_odds. It takes a number parameter and it adds all the odd numbers in that range. \"\"\"\n",
    "\n",
    "def sum_of_odds(n):\n",
    "    return sum(range(1, n+1, 2))\n",
    "\n",
    "print(sum_of_odds(5))  \n",
    "print(sum_of_odds(10)) \n",
    "print(sum_of_odds(100))"
   ]
  },
  {
   "cell_type": "code",
   "execution_count": 4,
   "id": "fef9c56f-b57c-423c-9201-c65c7a537cac",
   "metadata": {},
   "outputs": [
    {
     "name": "stdout",
     "output_type": "stream",
     "text": [
      "30\n"
     ]
    }
   ],
   "source": [
    "# Declare a function named sum_of_even. It takes a number parameter and it adds all the even numbers in that - range.\n",
    "\n",
    "def sum_of_even(number):\n",
    "\n",
    "  sum_of_even_numbers = 0\n",
    "  for num in range(number + 1):\n",
    "    if num % 2 == 0:\n",
    "      sum_of_even_numbers += num\n",
    "  return sum_of_even_numbers\n",
    "\n",
    "print(sum_of_even(10))"
   ]
  },
  {
   "cell_type": "code",
   "execution_count": 14,
   "id": "7d09f915-c0d5-43d5-8be4-e344bb67ac2f",
   "metadata": {},
   "outputs": [
    {
     "name": "stdout",
     "output_type": "stream",
     "text": [
      "(2, 1)\n"
     ]
    }
   ],
   "source": [
    "\"\"\" Declare a function named evens_and_odds . It takes a positive integer as parameter and it counts number of evens and odds in the number.\n",
    "\n",
    "```py\n",
    "    print(evens_and_odds(100))\n",
    "    # The number of odds are 50.\n",
    "    # The number of evens are 51. \"\"\"\n",
    "\n",
    "def evens_and_odds(n):\n",
    "    evens = 0\n",
    "    odds = 0\n",
    "    for digit in str(n):\n",
    "        if int(digit) % 2 == 0:\n",
    "            evens += 1\n",
    "        else:\n",
    "            odds += 1\n",
    "    return evens, odds\n",
    "\n",
    "print(evens_and_odds(100))"
   ]
  },
  {
   "cell_type": "code",
   "execution_count": 17,
   "id": "d1da616b-1cad-4fb5-a7b3-d6d4687066b6",
   "metadata": {},
   "outputs": [
    {
     "name": "stdout",
     "output_type": "stream",
     "text": [
      "720\n"
     ]
    }
   ],
   "source": [
    "# 1. Call your function factorial, it takes a whole number as a parameter and it return a factorial of the number\n",
    "\n",
    "def factorial(n):\n",
    "    if n == 0:\n",
    "        return 1\n",
    "    else:\n",
    "        return n * factorial(n-1)\n",
    "\n",
    "print(factorial(6))"
   ]
  },
  {
   "cell_type": "code",
   "execution_count": 19,
   "id": "8269eae3-3a82-4089-8303-01546fa10a15",
   "metadata": {},
   "outputs": [
    {
     "name": "stdout",
     "output_type": "stream",
     "text": [
      "True\n",
      "False\n",
      "False\n",
      "True\n",
      "True\n",
      "False\n",
      "True\n",
      "False\n"
     ]
    }
   ],
   "source": [
    "# 1. Call your function _is_empty_, it takes a parameter and it checks if it is empty or not\n",
    "\n",
    "def _is_empty_(param):\n",
    "    if isinstance(param, (list, tuple, set, dict)):\n",
    "        return len(param) == 0\n",
    "    elif isinstance(param, str):\n",
    "        return len(param.strip()) == 0\n",
    "    else:\n",
    "        return param is None or param == ''\n",
    "\n",
    "print(_is_empty_([]))\n",
    "print(_is_empty_(('a', 'b'))) \n",
    "print(_is_empty_({1, 2, 3})) \n",
    "print(_is_empty_({})) \n",
    "print(_is_empty_('')) \n",
    "print(_is_empty_('hello'))\n",
    "print(_is_empty_(None))\n",
    "print(_is_empty_(0))"
   ]
  },
  {
   "cell_type": "code",
   "execution_count": 20,
   "id": "5b8f6469-a569-4211-91a8-6f622a5c8bf5",
   "metadata": {},
   "outputs": [
    {
     "name": "stdout",
     "output_type": "stream",
     "text": [
      "3.0\n"
     ]
    }
   ],
   "source": [
    "# 1. Write different functions which take lists. They should calculate_mean, calculate_median, calculate_mode, calculate_range, calculate_variance, calculate_std (standard deviation).\n",
    "\n",
    "def calculate_mean(numbers):\n",
    "    if not isinstance(numbers, list):\n",
    "        raise ValueError(\"Input should be a list of numbers.\")\n",
    "    if not all(isinstance(num, (int, float)) for num in numbers):\n",
    "        raise ValueError(\"All elements in the list should be numbers.\")\n",
    "    return sum(numbers) / len(numbers)\n",
    "\n",
    "print(calculate_mean([1, 2, 3, 4, 5]))"
   ]
  },
  {
   "cell_type": "code",
   "execution_count": 22,
   "id": "bb399016-7058-47ac-9e52-f744562fba7e",
   "metadata": {},
   "outputs": [
    {
     "name": "stdout",
     "output_type": "stream",
     "text": [
      "True\n",
      "False\n"
     ]
    }
   ],
   "source": [
    "# Write a function called is_prime, which checks if a number is prime.\n",
    "\n",
    "def is_prime(n):\n",
    "    if n <= 1:\n",
    "        return False\n",
    "    elif n <= 3:\n",
    "        return True\n",
    "    elif n % 2 == 0 or n % 3 == 0:\n",
    "        return False\n",
    "    i = 5\n",
    "    while i * i <= n:\n",
    "        if n % i == 0 or n % (i + 2) == 0:\n",
    "            return False\n",
    "        i += 6\n",
    "    return True\n",
    "\n",
    "print(is_prime(2)) \n",
    "print(is_prime(4))\n"
   ]
  },
  {
   "cell_type": "code",
   "execution_count": 28,
   "id": "57175cca-5397-415f-8cec-c63c69335479",
   "metadata": {},
   "outputs": [
    {
     "name": "stdout",
     "output_type": "stream",
     "text": [
      "True\n",
      "False\n",
      "True\n",
      "False\n"
     ]
    }
   ],
   "source": [
    "# Write a functions which checks if all items are unique in the list.\n",
    "\n",
    "def all_unique(lst):\n",
    "    return len(lst) == len(set(lst))\n",
    "\n",
    "print(all_unique([1, 2, 3, 4, 5]))  \n",
    "print(all_unique([1, 2, 3, 3, 5]))  \n",
    "print(all_unique([\"apple\", \"banana\", \"cherry\"])) \n",
    "print(all_unique([\"apple\", \"banana\", \"apple\"]))"
   ]
  },
  {
   "cell_type": "code",
   "execution_count": 29,
   "id": "c2c81035-e4ef-4d57-b6a0-1b5d94ad9f5d",
   "metadata": {},
   "outputs": [
    {
     "name": "stdout",
     "output_type": "stream",
     "text": [
      "True\n",
      "False\n",
      "True\n",
      "False\n"
     ]
    }
   ],
   "source": [
    "# Write a function which checks if all the items of the list are of the same data type.\n",
    "\n",
    "def all_same_type(lst):\n",
    "    return all(type(x) == type(lst[0]) for x in lst)\n",
    "\n",
    "print(all_same_type([1, 2, 3, 4, 5]))  \n",
    "print(all_same_type([1, 2, 3, \"4\", 5]))  \n",
    "print(all_same_type([\"apple\", \"banana\", \"cherry\"]))  \n",
    "print(all_same_type([True, False, 1, 2])) "
   ]
  },
  {
   "cell_type": "code",
   "execution_count": 31,
   "id": "378ad705-288b-4c58-951d-dc24906a04d0",
   "metadata": {},
   "outputs": [
    {
     "name": "stdout",
     "output_type": "stream",
     "text": [
      "my_variable is a valid variable name\n"
     ]
    }
   ],
   "source": [
    "# Write a function which check if provided variable is a valid python variable\n",
    "\n",
    "def is_valid_variable_name(name):\n",
    "  \n",
    "  if not name:\n",
    "    return False\n",
    "  if keyword.iskeyword(name):\n",
    "    return False\n",
    "  if not name[0].isidentifier():\n",
    "    return False\n",
    "  for char in name[1:]:\n",
    "    if not char.isalnum() and char != '_':\n",
    "      return False\n",
    "  return True\n",
    "\n",
    "variable_name = \"my_variable\"\n",
    "if is_valid_variable_name(variable_name):\n",
    "  print(f\"{variable_name} is a valid variable name\")\n",
    "else:\n",
    "  print(f\"{variable_name} is not a valid variable name\")"
   ]
  },
  {
   "cell_type": "code",
   "execution_count": null,
   "id": "7d84ccca-54dc-40b5-bbcf-337605f0cbf9",
   "metadata": {},
   "outputs": [],
   "source": []
  }
 ],
 "metadata": {
  "kernelspec": {
   "display_name": "Python 3 (ipykernel)",
   "language": "python",
   "name": "python3"
  },
  "language_info": {
   "codemirror_mode": {
    "name": "ipython",
    "version": 3
   },
   "file_extension": ".py",
   "mimetype": "text/x-python",
   "name": "python",
   "nbconvert_exporter": "python",
   "pygments_lexer": "ipython3",
   "version": "3.11.7"
  }
 },
 "nbformat": 4,
 "nbformat_minor": 5
}
